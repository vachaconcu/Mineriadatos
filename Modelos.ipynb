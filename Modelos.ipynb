{
  "nbformat": 4,
  "nbformat_minor": 0,
  "metadata": {
    "colab": {
      "name": "Untitled6.ipynb",
      "provenance": [],
      "authorship_tag": "ABX9TyNxUbVjfvmHr4LxQ6rTRS6U",
      "include_colab_link": true
    },
    "kernelspec": {
      "name": "python3",
      "display_name": "Python 3"
    }
  },
  "cells": [
    {
      "cell_type": "markdown",
      "metadata": {
        "id": "view-in-github",
        "colab_type": "text"
      },
      "source": [
        "<a href=\"https://colab.research.google.com/github/vachaconcu/Mineriadatos/blob/master/Modelos.ipynb\" target=\"_parent\"><img src=\"https://colab.research.google.com/assets/colab-badge.svg\" alt=\"Open In Colab\"/></a>"
      ]
    },
    {
      "cell_type": "markdown",
      "metadata": {
        "id": "xOwZ9ydsXG2P",
        "colab_type": "text"
      },
      "source": [
        "# Carga de datos\n"
      ]
    },
    {
      "cell_type": "code",
      "metadata": {
        "id": "YOc4Z9D5We8I",
        "colab_type": "code",
        "colab": {}
      },
      "source": [
        "import os\n",
        "os.chdir('/content/drive/My Drive/Mineria/Interna/datos/Modelos')\n",
        "\n",
        "datos= load('/content/drive/My Drive/Mineria/Interna/datos/X_HM_val_int.npz') ; x_test = datos['arr_0']\n",
        "datos= load('/content/drive/My Drive/Mineria/Interna/datos/X_HM_train.npz') ; x_train = datos['arr_0']\n",
        "datos= load('/content/drive/My Drive/Mineria/Interna/datos/y_HM_val_int.npz') ; y_test_s = datos['arr_0']\n",
        "datos= load('/content/drive/My Drive/Mineria/Interna/datos/y_HM_train.npz') ; y_train_s = datos['arr_0']\n",
        "datos= load('/content/drive/My Drive/Mineria/Interna/datos/y_HM_val_ext.npz') ; y_test2_s = datos['arr_0']\n",
        "datos= load('/content/drive/My Drive/Mineria/Interna/datos/X_HM_val_ext.npz') ; x_test2 = datos['arr_0']\n",
        "datos= load('/content/drive/My Drive/Minería de Datos/Interna/datos/y_R_val_int.npz') ; y_test_r = datos['arr_0']\n",
        "datos= load('/content/drive/My Drive/Minería de Datos/Interna/datos/y_R_train.npz') ; y_train_r = datos['arr_0']\n",
        "datos= load('/content/drive/My Drive/Mineria/Interna/datos/y_R_val_ext.npz') ; y_test2_r = datos['arr_0']\n"
      ],
      "execution_count": null,
      "outputs": []
    },
    {
      "cell_type": "markdown",
      "metadata": {
        "id": "ZfX2ZoyPW7-Y",
        "colab_type": "text"
      },
      "source": [
        "#Carga de modelo final para sexo"
      ]
    },
    {
      "cell_type": "code",
      "metadata": {
        "id": "NAo4-5CKV85m",
        "colab_type": "code",
        "colab": {}
      },
      "source": [
        "from tensorflow.keras.models import load_model\n",
        "\n",
        "models = load_model('/content/drive/My Drive/Mineria/Interna/datos/Modelos/Sexo_Segunda_vale_0.7_ResNet20v2_model.027.h5')"
      ],
      "execution_count": null,
      "outputs": []
    },
    {
      "cell_type": "markdown",
      "metadata": {
        "id": "KTsGXQz4XBr4",
        "colab_type": "text"
      },
      "source": [
        "# Carga de modelo final para raza"
      ]
    },
    {
      "cell_type": "code",
      "metadata": {
        "id": "nuhqHPhrYVM_",
        "colab_type": "code",
        "colab": {}
      },
      "source": [
        "modelr="
      ],
      "execution_count": null,
      "outputs": []
    },
    {
      "cell_type": "markdown",
      "metadata": {
        "id": "zp_sp952Xj0L",
        "colab_type": "text"
      },
      "source": [
        "# Imagenes de prueba"
      ]
    },
    {
      "cell_type": "code",
      "metadata": {
        "id": "SCyySQ04Ybf-",
        "colab_type": "code",
        "colab": {}
      },
      "source": [
        "probs=models.predict(x_test2)\n",
        "probr=modelr.predict(x_test2)"
      ],
      "execution_count": null,
      "outputs": []
    },
    {
      "cell_type": "code",
      "metadata": {
        "id": "RoP9AtJcYiPl",
        "colab_type": "code",
        "colab": {}
      },
      "source": [
        "r=[]\n",
        "for i in range(y_test2.shape[0]):\n",
        "  a = np.argmax(probr[i])\n",
        "  r.append(a)\n",
        "\n",
        "s=[]\n",
        "for i in range(y_test2.shape[0]):\n",
        "  a = np.argmax(probs[i])\n",
        "  s.append(a)"
      ],
      "execution_count": null,
      "outputs": []
    },
    {
      "cell_type": "code",
      "metadata": {
        "id": "zPiDgs2VYyER",
        "colab_type": "code",
        "colab": {}
      },
      "source": [
        "verdaderor=[]\n",
        "for i in range(y_test2.shape[0]):\n",
        "  a = np.argmax(y_test2_r[i])\n",
        "  verdadero.append(a)\n",
        "verdaderos=[]\n",
        "for i in range(y_test2.shape[0]):\n",
        "  a = np.argmax(y_test2_s[i])\n",
        "  verdadero.append(a)"
      ],
      "execution_count": null,
      "outputs": []
    },
    {
      "cell_type": "code",
      "metadata": {
        "id": "wKhid4GFY_T6",
        "colab_type": "code",
        "colab": {}
      },
      "source": [
        "bien= []\n",
        "medio= []\n",
        "mal = []\n",
        "for i in  range(y_test2.shape[0]):\n",
        "  if verdaderor[i]==r[i]: \n",
        "      if verdaderos[i]==s[i]:\n",
        "        bien.append(i)\n",
        "      else: medio.append(i)\n",
        "  else: mal.append([verdadero[i],i,max(prob[i]),r[i]])\n",
        "\n",
        "table=pd.DataFrame(mal)\n",
        "table.columns=[\"y_test\",\"i\",\"prob_max\",\"pred\"]"
      ],
      "execution_count": null,
      "outputs": []
    },
    {
      "cell_type": "code",
      "metadata": {
        "id": "CReaI_pTZs1E",
        "colab_type": "code",
        "colab": {}
      },
      "source": [
        "Idw=[]\n",
        "image=io.imread('/content/drive/My Drive/Mineria/imagen.jpg')\n",
        "plt.imshow(image)\n",
        "\n",
        "Idata=np.array(image)/255\n",
        "Idw.append(x_test2[1])\n",
        "\n",
        "x_train_mean = np.mean(x_train, axis=0)\n",
        "Idw=np.array(Idw)\n",
        "Idw -= x_train_mean\n",
        "\n",
        "print(\"\\nLa imagen tiene forma: \",Idw.shape,\"\\n\")\n",
        "print(Idata)"
      ],
      "execution_count": null,
      "outputs": []
    }
  ]
}