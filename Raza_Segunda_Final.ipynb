{
  "nbformat": 4,
  "nbformat_minor": 0,
  "metadata": {
    "colab": {
      "name": "ish el de0.4.ipynb",
      "provenance": [],
      "collapsed_sections": [],
      "include_colab_link": true
    },
    "kernelspec": {
      "name": "python3",
      "display_name": "Python 3"
    },
    "accelerator": "GPU"
  },
  "cells": [
    {
      "cell_type": "markdown",
      "metadata": {
        "id": "view-in-github",
        "colab_type": "text"
      },
      "source": [
        "<a href=\"https://colab.research.google.com/github/vachaconcu/Mineriadatos/blob/master/Raza_Segunda_Final.ipynb\" target=\"_parent\"><img src=\"https://colab.research.google.com/assets/colab-badge.svg\" alt=\"Open In Colab\"/></a>"
      ]
    },
    {
      "cell_type": "markdown",
      "metadata": {
        "id": "aXBvDexaGsGf",
        "colab_type": "text"
      },
      "source": [
        "# Segundo entrenamiento - Modelo Resnet para clasificación de Raza"
      ]
    },
    {
      "cell_type": "markdown",
      "metadata": {
        "id": "m_akUsSXX6u_",
        "colab_type": "text"
      },
      "source": [
        "\n",
        "En el código siguiente se importan las funciones necesarias, principalmente de tensorflow.keras"
      ]
    },
    {
      "cell_type": "code",
      "metadata": {
        "id": "OTxMkZCVWgLd",
        "colab_type": "code",
        "colab": {
          "base_uri": "https://localhost:8080/",
          "height": 34
        },
        "outputId": "14aab993-23a1-475f-ec55-558817b2eed8"
      },
      "source": [
        "import pandas as pd\n",
        "import numpy as np\n",
        "import tensorflow as tf\n",
        "from skimage import io\n",
        "import numpy as np\n",
        "import matplotlib.pyplot as plt\n",
        "import tarfile\n",
        "from skimage import data\n",
        "from os import remove\n",
        "from skimage.color import rgb2gray\n",
        "\n",
        "from keras.preprocessing.image import load_img\n",
        "from keras.preprocessing.image import img_to_array\n",
        "from keras.preprocessing.image import array_to_img\n",
        "from sklearn.model_selection import train_test_split\n",
        "from google.colab import files\n",
        "from keras.layers import Conv2D, Conv2DTranspose, Input, Flatten, Dense, Lambda, Reshape,ZeroPadding2D,Activation,MaxPooling2D,Dropout\n",
        "from keras.layers import BatchNormalization\n",
        "from keras.models import Model\n",
        "from keras.utils import plot_model\n",
        "from keras.utils.vis_utils import plot_model\n",
        "from keras.datasets import mnist\n",
        "from keras.losses import binary_crossentropy\n",
        "from keras import backend as K\n",
        "from keras.models import Sequential\n",
        "from keras.layers import Dense\n",
        "from keras.models import Sequential\n",
        "from keras.layers import Dense\n",
        "from keras.layers import SpatialDropout2D\n",
        "from matplotlib import pyplot as plt\n",
        "import keras\n",
        "import tensorflow as tf\n",
        "from tensorflow.keras.layers import Input, Dense, Dropout, Conv2D\n",
        "from tensorflow.keras.layers import MaxPooling2D, Flatten\n",
        "from tensorflow.keras.models import Model\n",
        "from tensorflow.keras.datasets import cifar10\n",
        "from tensorflow.keras.utils import to_categorical"
      ],
      "execution_count": 3,
      "outputs": [
        {
          "output_type": "stream",
          "text": [
            "Using TensorFlow backend.\n"
          ],
          "name": "stderr"
        }
      ]
    },
    {
      "cell_type": "code",
      "metadata": {
        "id": "gXtMPu12ogD6",
        "colab_type": "code",
        "colab": {}
      },
      "source": [
        "from __future__ import absolute_import\n",
        "from __future__ import division\n",
        "from __future__ import print_function\n",
        "\n",
        "from tensorflow.keras.layers import Dense, Conv2D , Dropout\n",
        "from tensorflow.keras.layers import BatchNormalization, Activation\n",
        "from tensorflow.keras.layers import AveragePooling2D, Input\n",
        "from tensorflow.keras.layers import Flatten, add\n",
        "from tensorflow.keras.optimizers import Adam\n",
        "from tensorflow.keras.callbacks import ModelCheckpoint, LearningRateScheduler\n",
        "from tensorflow.keras.callbacks import ReduceLROnPlateau\n",
        "from tensorflow.keras.preprocessing.image import ImageDataGenerator\n",
        "from tensorflow.keras.regularizers import l2\n",
        "from tensorflow.keras.models import Model\n",
        "from tensorflow.keras.datasets import cifar10\n",
        "from tensorflow.keras.utils import plot_model\n",
        "from tensorflow.keras.utils import to_categorical\n",
        "import numpy as np\n",
        "from numpy import load\n",
        "import os"
      ],
      "execution_count": 4,
      "outputs": []
    },
    {
      "cell_type": "markdown",
      "metadata": {
        "id": "wwRaZumfGzdy",
        "colab_type": "text"
      },
      "source": [
        "Ahora se importan los datos que ya están en forma de tensores y separados en datos de entrenamiento, validación interna y validación externa.\n",
        "\n",
        "Los datos de etiqueta ya se encuentran en codificación one-hot donde los niveles de raza son: Blanco [10000], Negro [01000], Asiático [00100], Indio [00010], Otro [00001]."
      ]
    },
    {
      "cell_type": "code",
      "metadata": {
        "id": "1CTb70R3YZDU",
        "colab_type": "code",
        "colab": {}
      },
      "source": [
        "import os\n",
        "os.chdir('/content/drive/My Drive/Mineria/Interna/datos/Modelos')\n",
        "\n",
        "datos= load('/content/drive/My Drive/Mineria/Interna/datos/X_R_val_int.npz') ; x_test = datos['arr_0']\n",
        "datos= load('/content/drive/My Drive/Mineria/Interna/datos/X_R_train.npz') ; x_train = datos['arr_0']\n",
        "datos= load('/content/drive/My Drive/Mineria/Interna/datos/y_R_val_int.npz') ; y_test = datos['arr_0']\n",
        "datos= load('/content/drive/My Drive/Mineria/Interna/datos/y_R_train.npz') ; y_train = datos['arr_0']\n",
        "\n",
        "datos= load('/content/drive/My Drive/Mineria/Interna/datos/y_R_val_ext.npz') ; y_test2 = datos['arr_0']\n",
        "datos= load('/content/drive/My Drive/Mineria/Interna/datos/X_R_val_ext.npz') ; x_test2 = datos['arr_0']"
      ],
      "execution_count": 5,
      "outputs": []
    },
    {
      "cell_type": "markdown",
      "metadata": {
        "id": "jMrn0yD2YXr4",
        "colab_type": "text"
      },
      "source": [
        "Se imprimen los tamaños de los conjuntos de datos correspondientes:"
      ]
    },
    {
      "cell_type": "code",
      "metadata": {
        "id": "H7RbMR55bWhS",
        "colab_type": "code",
        "colab": {
          "base_uri": "https://localhost:8080/",
          "height": 119
        },
        "outputId": "a1460090-ea1f-4c58-cb1b-08f05df99a4d"
      },
      "source": [
        "print('x_test =',x_test.shape)\n",
        "print('x_train =',x_train.shape)\n",
        "print('y_test =',y_test.shape)\n",
        "print('y_train =',y_train.shape)\n",
        "\n",
        "print('y_test_ext=', y_test2.shape)\n",
        "print('x_test_ext=', x_test2.shape)"
      ],
      "execution_count": null,
      "outputs": [
        {
          "output_type": "stream",
          "text": [
            "x_test = (1719, 200, 200, 3)\n",
            "x_train = (6874, 200, 200, 3)\n",
            "y_test = (1719, 5)\n",
            "y_train = (6874, 5)\n",
            "y_test_ext= (2063, 5)\n",
            "x_test_ext= (2063, 200, 200, 3)\n"
          ],
          "name": "stdout"
        }
      ]
    },
    {
      "cell_type": "markdown",
      "metadata": {
        "id": "n-_4cL91G3Hl",
        "colab_type": "text"
      },
      "source": [
        "# Arquitectura ResNet v2 \n",
        "El número de clases se establece como 5 ya que las clasificaciones posibles son Blanco, Negro, Asiático, Indio y otro. Adicionalmente se usa un dropout de 0.1"
      ]
    },
    {
      "cell_type": "code",
      "metadata": {
        "id": "eoVqIG4mojgL",
        "colab_type": "code",
        "colab": {
          "base_uri": "https://localhost:8080/",
          "height": 35
        },
        "outputId": "323648df-79f5-4a28-bf3c-5f07838e27c6"
      },
      "source": [
        "batch_size = 32 \n",
        "epochs = 30\n",
        "\n",
        "data_augmentation = True\n",
        "num_classes = 5\n",
        "subtract_pixel_mean = True\n",
        "\n",
        "n = 2\n",
        "version = 2\n",
        "if version == 1:\n",
        "    depth = n * 6 + 2\n",
        "elif version == 2:\n",
        "    depth = n * 9 + 2\n",
        "\n",
        "model_type = 'ResNet%dv%d' % (depth, version)\n",
        "model_type"
      ],
      "execution_count": null,
      "outputs": [
        {
          "output_type": "execute_result",
          "data": {
            "application/vnd.google.colaboratory.intrinsic": {
              "type": "string"
            },
            "text/plain": [
              "'ResNet20v2'"
            ]
          },
          "metadata": {
            "tags": []
          },
          "execution_count": 5
        }
      ]
    },
    {
      "cell_type": "code",
      "metadata": {
        "id": "kql8upFhpIg_",
        "colab_type": "code",
        "colab": {
          "base_uri": "https://localhost:8080/",
          "height": 85
        },
        "outputId": "15344f9a-c3c8-471e-a11c-9e9a9094aa09"
      },
      "source": [
        "input_shape = x_train.shape[1:]\n",
        "\n",
        "if subtract_pixel_mean:\n",
        "    x_train_mean = np.mean(x_train, axis=0)\n",
        "    x_train -= x_train_mean\n",
        "    x_test -= x_train_mean\n",
        "\n",
        "print('x_train shape:', x_train.shape)\n",
        "print(x_train.shape[0], 'train samples')\n",
        "print(x_test.shape[0], 'test samples')\n",
        "print('y_train shape:', y_train.shape)"
      ],
      "execution_count": null,
      "outputs": [
        {
          "output_type": "stream",
          "text": [
            "x_train shape: (6874, 200, 200, 3)\n",
            "6874 train samples\n",
            "1719 test samples\n",
            "y_train shape: (6874, 5)\n"
          ],
          "name": "stdout"
        }
      ]
    },
    {
      "cell_type": "code",
      "metadata": {
        "id": "4j58TCUSpTH1",
        "colab_type": "code",
        "colab": {}
      },
      "source": [
        "def lr_schedule(epoch):\n",
        "    lr = 1e-3\n",
        "    if epoch > 180:\n",
        "        lr *= 0.5e-3\n",
        "    elif epoch > 160:\n",
        "        lr *= 1e-3\n",
        "    elif epoch > 120:\n",
        "        lr *= 1e-2\n",
        "    elif epoch > 80:\n",
        "        lr *= 1e-1\n",
        "    print('Learning rate: ', lr)\n",
        "    return lr"
      ],
      "execution_count": null,
      "outputs": []
    },
    {
      "cell_type": "code",
      "metadata": {
        "id": "hmx8ifYrprJ_",
        "colab_type": "code",
        "colab": {}
      },
      "source": [
        "def resnet_layer(inputs,\n",
        "                 num_filters=16,\n",
        "                 kernel_size=3,\n",
        "                 strides=1,\n",
        "                 activation='relu',\n",
        "                 batch_normalization=True,\n",
        "                 dropout=0.4,\n",
        "                 conv_first=True):\n",
        "    conv = Conv2D(num_filters,\n",
        "                  kernel_size=kernel_size,\n",
        "                  strides=strides,\n",
        "                  padding='same',\n",
        "                  kernel_initializer='he_normal',\n",
        "                  kernel_regularizer=l2(1e-4))\n",
        "    \n",
        "    x = inputs\n",
        "    if conv_first:\n",
        "        x = conv(x)\n",
        "        if batch_normalization:\n",
        "            x = BatchNormalization()(x)\n",
        "            x = Dropout(dropout)(x)\n",
        "        if activation is not None:\n",
        "            x = Activation(activation)(x)\n",
        "    else:\n",
        "        if batch_normalization:\n",
        "            x = BatchNormalization()(x)\n",
        "            x = Dropout(dropout)(x)\n",
        "        if activation is not None:\n",
        "            x = Activation(activation)(x)\n",
        "        x = conv(x)\n",
        "    return x"
      ],
      "execution_count": null,
      "outputs": []
    },
    {
      "cell_type": "code",
      "metadata": {
        "id": "M3Y0J8UMp3TO",
        "colab_type": "code",
        "colab": {}
      },
      "source": [
        "def resnet_v2(input_shape, depth, num_classes=5, dropout=0.4):\n",
        "    if (depth - 2) % 9 != 0:\n",
        "        raise ValueError('depth should be 9n+2 (eg 110 in [b])')\n",
        "    \n",
        "    num_filters_in = 16\n",
        "    num_res_blocks = int((depth - 2) / 9)\n",
        "    inputs = Input(shape=input_shape)\n",
        "    \n",
        "    x = resnet_layer(inputs=inputs,\n",
        "                     num_filters=num_filters_in,\n",
        "                     conv_first=True)\n",
        "\n",
        "    \n",
        "    for stage in range(3):\n",
        "        for res_block in range(num_res_blocks):\n",
        "            activation = 'relu'\n",
        "            batch_normalization = True\n",
        "            strides = 1\n",
        "            if stage == 0:\n",
        "                num_filters_out = num_filters_in * 4\n",
        "                \n",
        "                if res_block == 0:  \n",
        "                    activation = None\n",
        "                    batch_normalization = False\n",
        "            else:\n",
        "                num_filters_out = num_filters_in * 2\n",
        "                \n",
        "                if res_block == 0:\n",
        "                    \n",
        "                    strides = 2 \n",
        "\n",
        "            \n",
        "            y = resnet_layer(inputs=x,\n",
        "                             num_filters=num_filters_in,\n",
        "                             kernel_size=1,\n",
        "                             strides=strides,\n",
        "                             activation=activation,\n",
        "                             batch_normalization=batch_normalization,\n",
        "                             conv_first=False)\n",
        "            y = resnet_layer(inputs=y,\n",
        "                             num_filters=num_filters_in,\n",
        "                             conv_first=False)\n",
        "            y = resnet_layer(inputs=y,\n",
        "                             num_filters=num_filters_out,\n",
        "                             kernel_size=1,\n",
        "                             conv_first=False)\n",
        "            if res_block == 0:\n",
        "                \n",
        "                x = resnet_layer(inputs=x,\n",
        "                                 num_filters=num_filters_out,\n",
        "                                 kernel_size=1,\n",
        "                                 strides=strides,\n",
        "                                 activation=None,\n",
        "                                 batch_normalization=False)\n",
        "            x = add([x, y])\n",
        "\n",
        "        num_filters_in = num_filters_out\n",
        "\n",
        "    x = BatchNormalization()(x)\n",
        "    x = Activation('relu')(x)\n",
        "    x = Dropout(dropout)(x)\n",
        "    x = AveragePooling2D(pool_size=8)(x)\n",
        "    y = Flatten()(x)\n",
        "    outputs = Dense(num_classes,\n",
        "                    activation='softmax',\n",
        "                    kernel_initializer='he_normal')(y)\n",
        "\n",
        "\n",
        "    model = Model(inputs=inputs, outputs=outputs)\n",
        "    return model"
      ],
      "execution_count": null,
      "outputs": []
    },
    {
      "cell_type": "code",
      "metadata": {
        "id": "IVUkR2XgqCuS",
        "colab_type": "code",
        "colab": {}
      },
      "source": [
        "if version == 2:\n",
        "    model = resnet_v2(input_shape=input_shape, depth=depth)\n",
        "else:\n",
        "    model = resnet_v1(input_shape=input_shape, depth=depth)"
      ],
      "execution_count": null,
      "outputs": []
    },
    {
      "cell_type": "code",
      "metadata": {
        "id": "T92lYa5JqG1t",
        "colab_type": "code",
        "colab": {
          "base_uri": "https://localhost:8080/",
          "height": 1000
        },
        "outputId": "2c7df83c-c5b7-409f-d89b-5e15ecc7d983"
      },
      "source": [
        "model.compile(loss='categorical_crossentropy',\n",
        "              optimizer=Adam(lr=lr_schedule(0)),\n",
        "              metrics=['accuracy'])\n",
        "model.summary()\n",
        "plot_model(model, to_file=\"%s.png\" % model_type, show_shapes=True)\n",
        "print(model_type)"
      ],
      "execution_count": null,
      "outputs": [
        {
          "output_type": "stream",
          "text": [
            "Learning rate:  0.001\n",
            "Model: \"model\"\n",
            "__________________________________________________________________________________________________\n",
            "Layer (type)                    Output Shape         Param #     Connected to                     \n",
            "==================================================================================================\n",
            "input_1 (InputLayer)            [(None, 200, 200, 3) 0                                            \n",
            "__________________________________________________________________________________________________\n",
            "conv2d (Conv2D)                 (None, 200, 200, 16) 448         input_1[0][0]                    \n",
            "__________________________________________________________________________________________________\n",
            "batch_normalization (BatchNorma (None, 200, 200, 16) 64          conv2d[0][0]                     \n",
            "__________________________________________________________________________________________________\n",
            "dropout (Dropout)               (None, 200, 200, 16) 0           batch_normalization[0][0]        \n",
            "__________________________________________________________________________________________________\n",
            "activation (Activation)         (None, 200, 200, 16) 0           dropout[0][0]                    \n",
            "__________________________________________________________________________________________________\n",
            "conv2d_1 (Conv2D)               (None, 200, 200, 16) 272         activation[0][0]                 \n",
            "__________________________________________________________________________________________________\n",
            "batch_normalization_1 (BatchNor (None, 200, 200, 16) 64          conv2d_1[0][0]                   \n",
            "__________________________________________________________________________________________________\n",
            "dropout_1 (Dropout)             (None, 200, 200, 16) 0           batch_normalization_1[0][0]      \n",
            "__________________________________________________________________________________________________\n",
            "activation_1 (Activation)       (None, 200, 200, 16) 0           dropout_1[0][0]                  \n",
            "__________________________________________________________________________________________________\n",
            "conv2d_2 (Conv2D)               (None, 200, 200, 16) 2320        activation_1[0][0]               \n",
            "__________________________________________________________________________________________________\n",
            "batch_normalization_2 (BatchNor (None, 200, 200, 16) 64          conv2d_2[0][0]                   \n",
            "__________________________________________________________________________________________________\n",
            "dropout_2 (Dropout)             (None, 200, 200, 16) 0           batch_normalization_2[0][0]      \n",
            "__________________________________________________________________________________________________\n",
            "activation_2 (Activation)       (None, 200, 200, 16) 0           dropout_2[0][0]                  \n",
            "__________________________________________________________________________________________________\n",
            "conv2d_4 (Conv2D)               (None, 200, 200, 64) 1088        activation[0][0]                 \n",
            "__________________________________________________________________________________________________\n",
            "conv2d_3 (Conv2D)               (None, 200, 200, 64) 1088        activation_2[0][0]               \n",
            "__________________________________________________________________________________________________\n",
            "add (Add)                       (None, 200, 200, 64) 0           conv2d_4[0][0]                   \n",
            "                                                                 conv2d_3[0][0]                   \n",
            "__________________________________________________________________________________________________\n",
            "batch_normalization_3 (BatchNor (None, 200, 200, 64) 256         add[0][0]                        \n",
            "__________________________________________________________________________________________________\n",
            "dropout_3 (Dropout)             (None, 200, 200, 64) 0           batch_normalization_3[0][0]      \n",
            "__________________________________________________________________________________________________\n",
            "activation_3 (Activation)       (None, 200, 200, 64) 0           dropout_3[0][0]                  \n",
            "__________________________________________________________________________________________________\n",
            "conv2d_5 (Conv2D)               (None, 200, 200, 16) 1040        activation_3[0][0]               \n",
            "__________________________________________________________________________________________________\n",
            "batch_normalization_4 (BatchNor (None, 200, 200, 16) 64          conv2d_5[0][0]                   \n",
            "__________________________________________________________________________________________________\n",
            "dropout_4 (Dropout)             (None, 200, 200, 16) 0           batch_normalization_4[0][0]      \n",
            "__________________________________________________________________________________________________\n",
            "activation_4 (Activation)       (None, 200, 200, 16) 0           dropout_4[0][0]                  \n",
            "__________________________________________________________________________________________________\n",
            "conv2d_6 (Conv2D)               (None, 200, 200, 16) 2320        activation_4[0][0]               \n",
            "__________________________________________________________________________________________________\n",
            "batch_normalization_5 (BatchNor (None, 200, 200, 16) 64          conv2d_6[0][0]                   \n",
            "__________________________________________________________________________________________________\n",
            "dropout_5 (Dropout)             (None, 200, 200, 16) 0           batch_normalization_5[0][0]      \n",
            "__________________________________________________________________________________________________\n",
            "activation_5 (Activation)       (None, 200, 200, 16) 0           dropout_5[0][0]                  \n",
            "__________________________________________________________________________________________________\n",
            "conv2d_7 (Conv2D)               (None, 200, 200, 64) 1088        activation_5[0][0]               \n",
            "__________________________________________________________________________________________________\n",
            "add_1 (Add)                     (None, 200, 200, 64) 0           add[0][0]                        \n",
            "                                                                 conv2d_7[0][0]                   \n",
            "__________________________________________________________________________________________________\n",
            "batch_normalization_6 (BatchNor (None, 200, 200, 64) 256         add_1[0][0]                      \n",
            "__________________________________________________________________________________________________\n",
            "dropout_6 (Dropout)             (None, 200, 200, 64) 0           batch_normalization_6[0][0]      \n",
            "__________________________________________________________________________________________________\n",
            "activation_6 (Activation)       (None, 200, 200, 64) 0           dropout_6[0][0]                  \n",
            "__________________________________________________________________________________________________\n",
            "conv2d_8 (Conv2D)               (None, 100, 100, 64) 4160        activation_6[0][0]               \n",
            "__________________________________________________________________________________________________\n",
            "batch_normalization_7 (BatchNor (None, 100, 100, 64) 256         conv2d_8[0][0]                   \n",
            "__________________________________________________________________________________________________\n",
            "dropout_7 (Dropout)             (None, 100, 100, 64) 0           batch_normalization_7[0][0]      \n",
            "__________________________________________________________________________________________________\n",
            "activation_7 (Activation)       (None, 100, 100, 64) 0           dropout_7[0][0]                  \n",
            "__________________________________________________________________________________________________\n",
            "conv2d_9 (Conv2D)               (None, 100, 100, 64) 36928       activation_7[0][0]               \n",
            "__________________________________________________________________________________________________\n",
            "batch_normalization_8 (BatchNor (None, 100, 100, 64) 256         conv2d_9[0][0]                   \n",
            "__________________________________________________________________________________________________\n",
            "dropout_8 (Dropout)             (None, 100, 100, 64) 0           batch_normalization_8[0][0]      \n",
            "__________________________________________________________________________________________________\n",
            "activation_8 (Activation)       (None, 100, 100, 64) 0           dropout_8[0][0]                  \n",
            "__________________________________________________________________________________________________\n",
            "conv2d_11 (Conv2D)              (None, 100, 100, 128 8320        add_1[0][0]                      \n",
            "__________________________________________________________________________________________________\n",
            "conv2d_10 (Conv2D)              (None, 100, 100, 128 8320        activation_8[0][0]               \n",
            "__________________________________________________________________________________________________\n",
            "add_2 (Add)                     (None, 100, 100, 128 0           conv2d_11[0][0]                  \n",
            "                                                                 conv2d_10[0][0]                  \n",
            "__________________________________________________________________________________________________\n",
            "batch_normalization_9 (BatchNor (None, 100, 100, 128 512         add_2[0][0]                      \n",
            "__________________________________________________________________________________________________\n",
            "dropout_9 (Dropout)             (None, 100, 100, 128 0           batch_normalization_9[0][0]      \n",
            "__________________________________________________________________________________________________\n",
            "activation_9 (Activation)       (None, 100, 100, 128 0           dropout_9[0][0]                  \n",
            "__________________________________________________________________________________________________\n",
            "conv2d_12 (Conv2D)              (None, 100, 100, 64) 8256        activation_9[0][0]               \n",
            "__________________________________________________________________________________________________\n",
            "batch_normalization_10 (BatchNo (None, 100, 100, 64) 256         conv2d_12[0][0]                  \n",
            "__________________________________________________________________________________________________\n",
            "dropout_10 (Dropout)            (None, 100, 100, 64) 0           batch_normalization_10[0][0]     \n",
            "__________________________________________________________________________________________________\n",
            "activation_10 (Activation)      (None, 100, 100, 64) 0           dropout_10[0][0]                 \n",
            "__________________________________________________________________________________________________\n",
            "conv2d_13 (Conv2D)              (None, 100, 100, 64) 36928       activation_10[0][0]              \n",
            "__________________________________________________________________________________________________\n",
            "batch_normalization_11 (BatchNo (None, 100, 100, 64) 256         conv2d_13[0][0]                  \n",
            "__________________________________________________________________________________________________\n",
            "dropout_11 (Dropout)            (None, 100, 100, 64) 0           batch_normalization_11[0][0]     \n",
            "__________________________________________________________________________________________________\n",
            "activation_11 (Activation)      (None, 100, 100, 64) 0           dropout_11[0][0]                 \n",
            "__________________________________________________________________________________________________\n",
            "conv2d_14 (Conv2D)              (None, 100, 100, 128 8320        activation_11[0][0]              \n",
            "__________________________________________________________________________________________________\n",
            "add_3 (Add)                     (None, 100, 100, 128 0           add_2[0][0]                      \n",
            "                                                                 conv2d_14[0][0]                  \n",
            "__________________________________________________________________________________________________\n",
            "batch_normalization_12 (BatchNo (None, 100, 100, 128 512         add_3[0][0]                      \n",
            "__________________________________________________________________________________________________\n",
            "dropout_12 (Dropout)            (None, 100, 100, 128 0           batch_normalization_12[0][0]     \n",
            "__________________________________________________________________________________________________\n",
            "activation_12 (Activation)      (None, 100, 100, 128 0           dropout_12[0][0]                 \n",
            "__________________________________________________________________________________________________\n",
            "conv2d_15 (Conv2D)              (None, 50, 50, 128)  16512       activation_12[0][0]              \n",
            "__________________________________________________________________________________________________\n",
            "batch_normalization_13 (BatchNo (None, 50, 50, 128)  512         conv2d_15[0][0]                  \n",
            "__________________________________________________________________________________________________\n",
            "dropout_13 (Dropout)            (None, 50, 50, 128)  0           batch_normalization_13[0][0]     \n",
            "__________________________________________________________________________________________________\n",
            "activation_13 (Activation)      (None, 50, 50, 128)  0           dropout_13[0][0]                 \n",
            "__________________________________________________________________________________________________\n",
            "conv2d_16 (Conv2D)              (None, 50, 50, 128)  147584      activation_13[0][0]              \n",
            "__________________________________________________________________________________________________\n",
            "batch_normalization_14 (BatchNo (None, 50, 50, 128)  512         conv2d_16[0][0]                  \n",
            "__________________________________________________________________________________________________\n",
            "dropout_14 (Dropout)            (None, 50, 50, 128)  0           batch_normalization_14[0][0]     \n",
            "__________________________________________________________________________________________________\n",
            "activation_14 (Activation)      (None, 50, 50, 128)  0           dropout_14[0][0]                 \n",
            "__________________________________________________________________________________________________\n",
            "conv2d_18 (Conv2D)              (None, 50, 50, 256)  33024       add_3[0][0]                      \n",
            "__________________________________________________________________________________________________\n",
            "conv2d_17 (Conv2D)              (None, 50, 50, 256)  33024       activation_14[0][0]              \n",
            "__________________________________________________________________________________________________\n",
            "add_4 (Add)                     (None, 50, 50, 256)  0           conv2d_18[0][0]                  \n",
            "                                                                 conv2d_17[0][0]                  \n",
            "__________________________________________________________________________________________________\n",
            "batch_normalization_15 (BatchNo (None, 50, 50, 256)  1024        add_4[0][0]                      \n",
            "__________________________________________________________________________________________________\n",
            "dropout_15 (Dropout)            (None, 50, 50, 256)  0           batch_normalization_15[0][0]     \n",
            "__________________________________________________________________________________________________\n",
            "activation_15 (Activation)      (None, 50, 50, 256)  0           dropout_15[0][0]                 \n",
            "__________________________________________________________________________________________________\n",
            "conv2d_19 (Conv2D)              (None, 50, 50, 128)  32896       activation_15[0][0]              \n",
            "__________________________________________________________________________________________________\n",
            "batch_normalization_16 (BatchNo (None, 50, 50, 128)  512         conv2d_19[0][0]                  \n",
            "__________________________________________________________________________________________________\n",
            "dropout_16 (Dropout)            (None, 50, 50, 128)  0           batch_normalization_16[0][0]     \n",
            "__________________________________________________________________________________________________\n",
            "activation_16 (Activation)      (None, 50, 50, 128)  0           dropout_16[0][0]                 \n",
            "__________________________________________________________________________________________________\n",
            "conv2d_20 (Conv2D)              (None, 50, 50, 128)  147584      activation_16[0][0]              \n",
            "__________________________________________________________________________________________________\n",
            "batch_normalization_17 (BatchNo (None, 50, 50, 128)  512         conv2d_20[0][0]                  \n",
            "__________________________________________________________________________________________________\n",
            "dropout_17 (Dropout)            (None, 50, 50, 128)  0           batch_normalization_17[0][0]     \n",
            "__________________________________________________________________________________________________\n",
            "activation_17 (Activation)      (None, 50, 50, 128)  0           dropout_17[0][0]                 \n",
            "__________________________________________________________________________________________________\n",
            "conv2d_21 (Conv2D)              (None, 50, 50, 256)  33024       activation_17[0][0]              \n",
            "__________________________________________________________________________________________________\n",
            "add_5 (Add)                     (None, 50, 50, 256)  0           add_4[0][0]                      \n",
            "                                                                 conv2d_21[0][0]                  \n",
            "__________________________________________________________________________________________________\n",
            "batch_normalization_18 (BatchNo (None, 50, 50, 256)  1024        add_5[0][0]                      \n",
            "__________________________________________________________________________________________________\n",
            "activation_18 (Activation)      (None, 50, 50, 256)  0           batch_normalization_18[0][0]     \n",
            "__________________________________________________________________________________________________\n",
            "dropout_18 (Dropout)            (None, 50, 50, 256)  0           activation_18[0][0]              \n",
            "__________________________________________________________________________________________________\n",
            "average_pooling2d (AveragePooli (None, 6, 6, 256)    0           dropout_18[0][0]                 \n",
            "__________________________________________________________________________________________________\n",
            "flatten (Flatten)               (None, 9216)         0           average_pooling2d[0][0]          \n",
            "__________________________________________________________________________________________________\n",
            "dense (Dense)                   (None, 5)            46085       flatten[0][0]                    \n",
            "==================================================================================================\n",
            "Total params: 617,605\n",
            "Trainable params: 614,117\n",
            "Non-trainable params: 3,488\n",
            "__________________________________________________________________________________________________\n",
            "ResNet20v2\n"
          ],
          "name": "stdout"
        }
      ]
    },
    {
      "cell_type": "code",
      "metadata": {
        "id": "tCCfDIRF1uOC",
        "colab_type": "code",
        "colab": {}
      },
      "source": [
        "#using last check point\n",
        "from tensorflow.keras.models import load_model\n",
        "\n",
        "model = load_model('/content/drive/My Drive/Mineria/Interna/datos/Modelos/Raza_0.3_ResNet20v2_model.076.h5')"
      ],
      "execution_count": null,
      "outputs": []
    },
    {
      "cell_type": "code",
      "metadata": {
        "id": "kiZiKwkziQ4s",
        "colab_type": "code",
        "colab": {
          "base_uri": "https://localhost:8080/",
          "height": 1000
        },
        "outputId": "969f5815-ede8-4fe7-c49d-9384ca8e2e74"
      },
      "source": [
        "save_dir = os.path.join(os.getcwd(), './Modelos')\n",
        "model_name = 'Raza_Segunda_vale_0.1_%s_model.{epoch:03d}.h5' % model_type\n",
        "if not os.path.isdir(save_dir):\n",
        "    os.makedirs(save_dir)\n",
        "filepath = os.path.join(save_dir, model_name)\n",
        "\n",
        "\n",
        "checkpoint = ModelCheckpoint(filepath=filepath,\n",
        "                             monitor='val_accuracy',\n",
        "                             verbose=1,\n",
        "                             save_best_only=True)\n",
        "\n",
        "lr_scheduler = LearningRateScheduler(lr_schedule)\n",
        "\n",
        "lr_reducer = ReduceLROnPlateau(factor=np.sqrt(0.1),\n",
        "                               cooldown=0,\n",
        "                               patience=5,\n",
        "                               min_lr=0.5e-6)\n",
        "\n",
        "callbacks = [checkpoint, lr_reducer, lr_scheduler]\n",
        "\n",
        "if not data_augmentation:\n",
        "    print('Not using data augmentation.')\n",
        "    model.fit(x_train, y_train,\n",
        "              batch_size=batch_size,\n",
        "              epochs=epochs,\n",
        "              validation_data=(x_test, y_test),\n",
        "              shuffle=True,\n",
        "              callbacks=callbacks)\n",
        "else:\n",
        "    print('Using real-time data augmentation.')\n",
        "    \n",
        "    datagen = ImageDataGenerator(\n",
        "        \n",
        "        featurewise_center=False,\n",
        "        \n",
        "        samplewise_center=False,\n",
        "        \n",
        "        featurewise_std_normalization=False,\n",
        "        \n",
        "        samplewise_std_normalization=False,\n",
        "        \n",
        "        zca_whitening=False,\n",
        "        \n",
        "        rotation_range=0,\n",
        "        \n",
        "        width_shift_range=0.1,\n",
        "        \n",
        "        height_shift_range=0.1,\n",
        "        \n",
        "        horizontal_flip=True,\n",
        "        \n",
        "        vertical_flip=False)\n",
        "\n",
        "    \n",
        "    datagen.fit(x_train)\n",
        "\n",
        "    \n",
        "    history = model.fit(datagen.flow(x_train, y_train, batch_size=batch_size),\n",
        "                        validation_data=(x_test, y_test),\n",
        "                        epochs=epochs, verbose=1, \n",
        "                        steps_per_epoch=len(x_train)//batch_size,\n",
        "                        callbacks=callbacks)"
      ],
      "execution_count": null,
      "outputs": [
        {
          "output_type": "stream",
          "text": [
            "Using real-time data augmentation.\n",
            "Learning rate:  0.001\n",
            "Epoch 1/30\n",
            "214/214 [==============================] - ETA: 0s - loss: 0.7338 - accuracy: 0.7701\n",
            "Epoch 00001: val_accuracy improved from -inf to 0.70099, saving model to /content/drive/.shortcut-targets-by-id/1EIw6ZmKwlGHMh1CQuZhn85QTdh7-YF5_/Interna/datos/Modelos/./Modelos/Raza_Segunda_vale_0.1_ResNet20v2_model.001.h5\n",
            "214/214 [==============================] - 237s 1s/step - loss: 0.7338 - accuracy: 0.7701 - val_loss: 1.0264 - val_accuracy: 0.7010 - lr: 0.0010\n",
            "Learning rate:  0.001\n",
            "Epoch 2/30\n",
            "214/214 [==============================] - ETA: 0s - loss: 0.7246 - accuracy: 0.7751\n",
            "Epoch 00002: val_accuracy improved from 0.70099 to 0.75509, saving model to /content/drive/.shortcut-targets-by-id/1EIw6ZmKwlGHMh1CQuZhn85QTdh7-YF5_/Interna/datos/Modelos/./Modelos/Raza_Segunda_vale_0.1_ResNet20v2_model.002.h5\n",
            "214/214 [==============================] - 232s 1s/step - loss: 0.7246 - accuracy: 0.7751 - val_loss: 0.8777 - val_accuracy: 0.7551 - lr: 0.0010\n",
            "Learning rate:  0.001\n",
            "Epoch 3/30\n",
            "214/214 [==============================] - ETA: 0s - loss: 0.7181 - accuracy: 0.7765\n",
            "Epoch 00003: val_accuracy did not improve from 0.75509\n",
            "214/214 [==============================] - 232s 1s/step - loss: 0.7181 - accuracy: 0.7765 - val_loss: 0.8226 - val_accuracy: 0.7551 - lr: 0.0010\n",
            "Learning rate:  0.001\n",
            "Epoch 4/30\n",
            "214/214 [==============================] - ETA: 0s - loss: 0.7107 - accuracy: 0.7774\n",
            "Epoch 00004: val_accuracy improved from 0.75509 to 0.78709, saving model to /content/drive/.shortcut-targets-by-id/1EIw6ZmKwlGHMh1CQuZhn85QTdh7-YF5_/Interna/datos/Modelos/./Modelos/Raza_Segunda_vale_0.1_ResNet20v2_model.004.h5\n",
            "214/214 [==============================] - 232s 1s/step - loss: 0.7107 - accuracy: 0.7774 - val_loss: 0.7272 - val_accuracy: 0.7871 - lr: 0.0010\n",
            "Learning rate:  0.001\n",
            "Epoch 5/30\n",
            "214/214 [==============================] - ETA: 0s - loss: 0.7199 - accuracy: 0.7714\n",
            "Epoch 00005: val_accuracy did not improve from 0.78709\n",
            "214/214 [==============================] - 232s 1s/step - loss: 0.7199 - accuracy: 0.7714 - val_loss: 0.7449 - val_accuracy: 0.7737 - lr: 0.0010\n",
            "Learning rate:  0.001\n",
            "Epoch 6/30\n",
            "214/214 [==============================] - ETA: 0s - loss: 0.7125 - accuracy: 0.7806\n",
            "Epoch 00006: val_accuracy did not improve from 0.78709\n",
            "214/214 [==============================] - 232s 1s/step - loss: 0.7125 - accuracy: 0.7806 - val_loss: 0.8103 - val_accuracy: 0.7691 - lr: 0.0010\n",
            "Learning rate:  0.001\n",
            "Epoch 7/30\n",
            "214/214 [==============================] - ETA: 0s - loss: 0.7142 - accuracy: 0.7757\n",
            "Epoch 00007: val_accuracy did not improve from 0.78709\n",
            "214/214 [==============================] - 232s 1s/step - loss: 0.7142 - accuracy: 0.7757 - val_loss: 0.7797 - val_accuracy: 0.7766 - lr: 0.0010\n",
            "Learning rate:  0.001\n",
            "Epoch 8/30\n",
            "214/214 [==============================] - ETA: 0s - loss: 0.7235 - accuracy: 0.7735\n",
            "Epoch 00008: val_accuracy did not improve from 0.78709\n",
            "214/214 [==============================] - 232s 1s/step - loss: 0.7235 - accuracy: 0.7735 - val_loss: 0.7980 - val_accuracy: 0.7592 - lr: 0.0010\n",
            "Learning rate:  0.001\n",
            "Epoch 9/30\n",
            "214/214 [==============================] - ETA: 0s - loss: 0.7038 - accuracy: 0.7821\n",
            "Epoch 00009: val_accuracy did not improve from 0.78709\n",
            "214/214 [==============================] - 231s 1s/step - loss: 0.7038 - accuracy: 0.7821 - val_loss: 0.8465 - val_accuracy: 0.7429 - lr: 3.1623e-04\n",
            "Learning rate:  0.001\n",
            "Epoch 10/30\n",
            "214/214 [==============================] - ETA: 0s - loss: 0.7040 - accuracy: 0.7833\n",
            "Epoch 00010: val_accuracy did not improve from 0.78709\n",
            "214/214 [==============================] - 232s 1s/step - loss: 0.7040 - accuracy: 0.7833 - val_loss: 0.8144 - val_accuracy: 0.7708 - lr: 0.0010\n",
            "Learning rate:  0.001\n",
            "Epoch 11/30\n",
            "214/214 [==============================] - ETA: 0s - loss: 0.6949 - accuracy: 0.7878\n",
            "Epoch 00011: val_accuracy did not improve from 0.78709\n",
            "214/214 [==============================] - 231s 1s/step - loss: 0.6949 - accuracy: 0.7878 - val_loss: 0.7760 - val_accuracy: 0.7749 - lr: 0.0010\n",
            "Learning rate:  0.001\n",
            "Epoch 12/30\n",
            "214/214 [==============================] - ETA: 0s - loss: 0.6935 - accuracy: 0.7846\n",
            "Epoch 00012: val_accuracy did not improve from 0.78709\n",
            "214/214 [==============================] - 231s 1s/step - loss: 0.6935 - accuracy: 0.7846 - val_loss: 0.8544 - val_accuracy: 0.7522 - lr: 0.0010\n",
            "Learning rate:  0.001\n",
            "Epoch 13/30\n",
            "214/214 [==============================] - ETA: 0s - loss: 0.7113 - accuracy: 0.7761\n",
            "Epoch 00013: val_accuracy did not improve from 0.78709\n",
            "214/214 [==============================] - 232s 1s/step - loss: 0.7113 - accuracy: 0.7761 - val_loss: 0.7712 - val_accuracy: 0.7859 - lr: 0.0010\n",
            "Learning rate:  0.001\n",
            "Epoch 14/30\n",
            "214/214 [==============================] - ETA: 0s - loss: 0.6925 - accuracy: 0.7854\n",
            "Epoch 00014: val_accuracy did not improve from 0.78709\n",
            "214/214 [==============================] - 231s 1s/step - loss: 0.6925 - accuracy: 0.7854 - val_loss: 0.8531 - val_accuracy: 0.7452 - lr: 3.1623e-04\n",
            "Learning rate:  0.001\n",
            "Epoch 15/30\n",
            "214/214 [==============================] - ETA: 0s - loss: 0.6942 - accuracy: 0.7854\n",
            "Epoch 00015: val_accuracy did not improve from 0.78709\n",
            "214/214 [==============================] - 231s 1s/step - loss: 0.6942 - accuracy: 0.7854 - val_loss: 0.7906 - val_accuracy: 0.7760 - lr: 0.0010\n",
            "Learning rate:  0.001\n",
            "Epoch 16/30\n",
            "214/214 [==============================] - ETA: 0s - loss: 0.6942 - accuracy: 0.7834\n",
            "Epoch 00016: val_accuracy improved from 0.78709 to 0.79058, saving model to /content/drive/.shortcut-targets-by-id/1EIw6ZmKwlGHMh1CQuZhn85QTdh7-YF5_/Interna/datos/Modelos/./Modelos/Raza_Segunda_vale_0.1_ResNet20v2_model.016.h5\n",
            "214/214 [==============================] - 232s 1s/step - loss: 0.6942 - accuracy: 0.7834 - val_loss: 0.7758 - val_accuracy: 0.7906 - lr: 0.0010\n",
            "Learning rate:  0.001\n",
            "Epoch 17/30\n",
            "214/214 [==============================] - ETA: 0s - loss: 0.6903 - accuracy: 0.7904\n",
            "Epoch 00017: val_accuracy improved from 0.79058 to 0.79407, saving model to /content/drive/.shortcut-targets-by-id/1EIw6ZmKwlGHMh1CQuZhn85QTdh7-YF5_/Interna/datos/Modelos/./Modelos/Raza_Segunda_vale_0.1_ResNet20v2_model.017.h5\n",
            "214/214 [==============================] - 232s 1s/step - loss: 0.6903 - accuracy: 0.7904 - val_loss: 0.7395 - val_accuracy: 0.7941 - lr: 0.0010\n",
            "Learning rate:  0.001\n",
            "Epoch 18/30\n",
            "214/214 [==============================] - ETA: 0s - loss: 0.6819 - accuracy: 0.7900\n",
            "Epoch 00018: val_accuracy did not improve from 0.79407\n",
            "214/214 [==============================] - 231s 1s/step - loss: 0.6819 - accuracy: 0.7900 - val_loss: 0.7956 - val_accuracy: 0.7784 - lr: 0.0010\n",
            "Learning rate:  0.001\n",
            "Epoch 19/30\n",
            "214/214 [==============================] - ETA: 0s - loss: 0.6770 - accuracy: 0.7933\n",
            "Epoch 00019: val_accuracy did not improve from 0.79407\n",
            "214/214 [==============================] - 232s 1s/step - loss: 0.6770 - accuracy: 0.7933 - val_loss: 0.7790 - val_accuracy: 0.7784 - lr: 3.1623e-04\n",
            "Learning rate:  0.001\n",
            "Epoch 20/30\n",
            "214/214 [==============================] - ETA: 0s - loss: 0.6757 - accuracy: 0.7917\n",
            "Epoch 00020: val_accuracy did not improve from 0.79407\n",
            "214/214 [==============================] - 231s 1s/step - loss: 0.6757 - accuracy: 0.7917 - val_loss: 0.8753 - val_accuracy: 0.7487 - lr: 0.0010\n",
            "Learning rate:  0.001\n",
            "Epoch 21/30\n",
            "214/214 [==============================] - ETA: 0s - loss: 0.6802 - accuracy: 0.7938\n",
            "Epoch 00021: val_accuracy did not improve from 0.79407\n",
            "214/214 [==============================] - 232s 1s/step - loss: 0.6802 - accuracy: 0.7938 - val_loss: 0.7832 - val_accuracy: 0.7772 - lr: 0.0010\n",
            "Learning rate:  0.001\n",
            "Epoch 22/30\n",
            "214/214 [==============================] - ETA: 0s - loss: 0.6821 - accuracy: 0.7901\n",
            "Epoch 00022: val_accuracy did not improve from 0.79407\n",
            "214/214 [==============================] - 232s 1s/step - loss: 0.6821 - accuracy: 0.7901 - val_loss: 0.7726 - val_accuracy: 0.7749 - lr: 0.0010\n",
            "Learning rate:  0.001\n",
            "Epoch 23/30\n",
            "214/214 [==============================] - ETA: 0s - loss: 0.6757 - accuracy: 0.7967\n",
            "Epoch 00023: val_accuracy did not improve from 0.79407\n",
            "214/214 [==============================] - 232s 1s/step - loss: 0.6757 - accuracy: 0.7967 - val_loss: 0.8110 - val_accuracy: 0.7731 - lr: 0.0010\n",
            "Learning rate:  0.001\n",
            "Epoch 24/30\n",
            "214/214 [==============================] - ETA: 0s - loss: 0.6706 - accuracy: 0.7929\n",
            "Epoch 00024: val_accuracy did not improve from 0.79407\n",
            "214/214 [==============================] - 231s 1s/step - loss: 0.6706 - accuracy: 0.7929 - val_loss: 0.7561 - val_accuracy: 0.7743 - lr: 3.1623e-04\n",
            "Learning rate:  0.001\n",
            "Epoch 25/30\n",
            "214/214 [==============================] - ETA: 0s - loss: 0.6888 - accuracy: 0.7875\n",
            "Epoch 00025: val_accuracy did not improve from 0.79407\n",
            "214/214 [==============================] - 231s 1s/step - loss: 0.6888 - accuracy: 0.7875 - val_loss: 0.7830 - val_accuracy: 0.7807 - lr: 0.0010\n",
            "Learning rate:  0.001\n",
            "Epoch 26/30\n",
            "214/214 [==============================] - ETA: 0s - loss: 0.6705 - accuracy: 0.7971\n",
            "Epoch 00026: val_accuracy did not improve from 0.79407\n",
            "214/214 [==============================] - 231s 1s/step - loss: 0.6705 - accuracy: 0.7971 - val_loss: 0.8278 - val_accuracy: 0.7638 - lr: 0.0010\n",
            "Learning rate:  0.001\n",
            "Epoch 27/30\n",
            "214/214 [==============================] - ETA: 0s - loss: 0.6698 - accuracy: 0.7963\n",
            "Epoch 00027: val_accuracy did not improve from 0.79407\n",
            "214/214 [==============================] - 231s 1s/step - loss: 0.6698 - accuracy: 0.7963 - val_loss: 0.7797 - val_accuracy: 0.7749 - lr: 0.0010\n",
            "Learning rate:  0.001\n",
            "Epoch 28/30\n",
            "214/214 [==============================] - ETA: 0s - loss: 0.6684 - accuracy: 0.7958\n",
            "Epoch 00028: val_accuracy improved from 0.79407 to 0.79814, saving model to /content/drive/.shortcut-targets-by-id/1EIw6ZmKwlGHMh1CQuZhn85QTdh7-YF5_/Interna/datos/Modelos/./Modelos/Raza_Segunda_vale_0.1_ResNet20v2_model.028.h5\n",
            "214/214 [==============================] - 232s 1s/step - loss: 0.6684 - accuracy: 0.7958 - val_loss: 0.7488 - val_accuracy: 0.7981 - lr: 0.0010\n",
            "Learning rate:  0.001\n",
            "Epoch 29/30\n",
            "214/214 [==============================] - ETA: 0s - loss: 0.6732 - accuracy: 0.7939\n",
            "Epoch 00029: val_accuracy did not improve from 0.79814\n",
            "214/214 [==============================] - 232s 1s/step - loss: 0.6732 - accuracy: 0.7939 - val_loss: 0.8913 - val_accuracy: 0.7382 - lr: 3.1623e-04\n",
            "Learning rate:  0.001\n",
            "Epoch 30/30\n",
            "214/214 [==============================] - ETA: 0s - loss: 0.6617 - accuracy: 0.8004\n",
            "Epoch 00030: val_accuracy did not improve from 0.79814\n",
            "214/214 [==============================] - 232s 1s/step - loss: 0.6617 - accuracy: 0.8004 - val_loss: 0.7667 - val_accuracy: 0.7778 - lr: 0.0010\n"
          ],
          "name": "stdout"
        }
      ]
    },
    {
      "cell_type": "code",
      "metadata": {
        "id": "ezaiJkW-irF6",
        "colab_type": "code",
        "colab": {
          "base_uri": "https://localhost:8080/",
          "height": 573
        },
        "outputId": "1b078fe4-b98f-4824-9192-9f4137ef982e"
      },
      "source": [
        "plt.plot(history.history['accuracy'])\n",
        "plt.plot(history.history['val_accuracy'])\n",
        "plt.title('model accuracy')\n",
        "plt.ylabel('accuracy')\n",
        "plt.xlabel('epoch')\n",
        "plt.ylim(0.60,0.95)\n",
        "plt.xlim(0,30)\n",
        "plt.legend(['train', 'test'], loc='upper left')\n",
        "plt.show()\n",
        "\n",
        "plt.plot(history.history['loss'])\n",
        "plt.plot(history.history['val_loss'])\n",
        "plt.title('model loss')\n",
        "plt.ylabel('loss')\n",
        "plt.xlabel('epoch')\n",
        "plt.ylim(0,1)\n",
        "plt.xlim(0,30)\n",
        "plt.legend(['train', 'test'], loc='upper left')\n",
        "plt.show()"
      ],
      "execution_count": null,
      "outputs": [
        {
          "output_type": "display_data",
          "data": {
            "image/png": "[encoded data removed]",
            "text/plain": [
              "<Figure size 432x288 with 1 Axes>"
            ]
          },
          "metadata": {
            "tags": [],
            "needs_background": "light"
          }
        },
        {
          "output_type": "display_data",
          "data": {
            "image/png": "[encoded data removed]",
            "text/plain": [
              "<Figure size 432x288 with 1 Axes>"
            ]
          },
          "metadata": {
            "tags": [],
            "needs_background": "light"
          }
        }
      ]
    },
    {
      "cell_type": "markdown",
      "metadata": {
        "id": "OLHQH0WRmdiw",
        "colab_type": "text"
      },
      "source": [
        "# Validación Externa"
      ]
    },
    {
      "cell_type": "code",
      "metadata": {
        "id": "06ABnmemmTpt",
        "colab_type": "code",
        "colab": {}
      },
      "source": [
        "from tensorflow.keras.preprocessing.image import img_to_array\n",
        "from tensorflow.keras.models import load_model\n",
        "\n",
        "model = load_model('/content/drive/My Drive/Mineria/Interna/datos/Modelos/Modelos/Raza_Segunda_vale_0.1_ResNet20v2_model.028.h5')"
      ],
      "execution_count": 6,
      "outputs": []
    },
    {
      "cell_type": "code",
      "metadata": {
        "id": "Fs1xhLH9nC01",
        "colab_type": "code",
        "colab": {}
      },
      "source": [
        "x_train_mean=np.mean(x_train,axis=0)\n",
        "x_train-=x_train_mean\n",
        "x_test-=x_train_mean\n",
        "x_test2-=x_train_mean"
      ],
      "execution_count": 7,
      "outputs": []
    },
    {
      "cell_type": "code",
      "metadata": {
        "id": "HOgG6CnOnGIy",
        "colab_type": "code",
        "colab": {
          "base_uri": "https://localhost:8080/",
          "height": 51
        },
        "outputId": "191b9971-94bb-4929-eeca-6178d511faa5"
      },
      "source": [
        "scores=model.evaluate(x_test2,y_test2,verbose=0)\n",
        "print('Test loss:', scores[0])\n",
        "print('Test accuracy:', scores[1])"
      ],
      "execution_count": 8,
      "outputs": [
        {
          "output_type": "stream",
          "text": [
            "Test loss: 0.7651188969612122\n",
            "Test accuracy: 0.7935045957565308\n"
          ],
          "name": "stdout"
        }
      ]
    }
  ]
}