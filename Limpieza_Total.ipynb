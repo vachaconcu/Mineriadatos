{
  "nbformat": 4,
  "nbformat_minor": 0,
  "metadata": {
    "colab": {
      "name": "LimpiezaTotal.ipynb",
      "provenance": [],
      "collapsed_sections": [],
      "include_colab_link": true
    },
    "kernelspec": {
      "name": "python3",
      "display_name": "Python 3"
    }
  },
  "cells": [
    {
      "cell_type": "markdown",
      "metadata": {
        "id": "view-in-github",
        "colab_type": "text"
      },
      "source": [
        "<a href=\"https://colab.research.google.com/github/vachaconcu/Mineriadatos/blob/master/Limpieza_Total.ipynb\" target=\"_parent\"><img src=\"https://colab.research.google.com/assets/colab-badge.svg\" alt=\"Open In Colab\"/></a>"
      ]
    },
    {
      "cell_type": "markdown",
      "metadata": {
        "id": "7j_ackXFYnzU",
        "colab_type": "text"
      },
      "source": [
        "# Limpieza de la base de datos\n",
        "A continuación se importan las librerías y funciones necesarias; adicionalmente se cargan los datos: "
      ]
    },
    {
      "cell_type": "code",
      "metadata": {
        "id": "OTxMkZCVWgLd",
        "colab_type": "code",
        "colab": {
          "base_uri": "https://localhost:8080/",
          "height": 34
        },
        "outputId": "5f7f593d-d872-4c69-dc9e-243bd10dc69e"
      },
      "source": [
        "import pandas as pd\n",
        "import numpy as np\n",
        "import tensorflow as tf\n",
        "from skimage import io\n",
        "import tarfile\n",
        "from skimage import data\n",
        "from os import remove\n",
        "from google.colab import files"
      ],
      "execution_count": null,
      "outputs": [
        {
          "output_type": "stream",
          "text": [
            "Using TensorFlow backend.\n"
          ],
          "name": "stderr"
        }
      ]
    },
    {
      "cell_type": "code",
      "metadata": {
        "id": "b6WYYwX-1Ieg",
        "colab_type": "code",
        "colab": {}
      },
      "source": [
        "from numpy import load\n",
        "import os\n",
        "os.chdir('/content/drive/My Drive/Mineria/Train-Test 90%')\n",
        "\n",
        "datos= load('/content/drive/My Drive/Mineria/Train-Test 90%/x_test.npz') ; X_test = datos['arr_0']\n",
        "datos= load('/content/drive/My Drive/Mineria/Train-Test 90%/x_train.npz') ; X_train = datos['arr_0']\n",
        "datos= load('/content/drive/My Drive/Mineria/Train-Test 90%/y_test_s.npz') ; y_test = datos['arr_0']\n",
        "datos= load('/content/drive/My Drive/Mineria/Train-Test 90%/y_train_s.npz') ; y_train = datos['arr_0']"
      ],
      "execution_count": null,
      "outputs": []
    },
    {
      "cell_type": "code",
      "metadata": {
        "id": "qKXp1oaQ1JNg",
        "colab_type": "code",
        "colab": {
          "base_uri": "https://localhost:8080/",
          "height": 85
        },
        "outputId": "82b9f08c-c321-4101-8bfa-99c747371b70"
      },
      "source": [
        "print('X_test =',X_test.shape)\n",
        "print('X_train =',X_train.shape)\n",
        "print('y_test =',y_test.shape)\n",
        "print('y_train =',y_train.shape)"
      ],
      "execution_count": null,
      "outputs": [
        {
          "output_type": "stream",
          "text": [
            "X_test = (1177, 200, 200, 3)\n",
            "X_train = (10584, 200, 200, 3)\n",
            "y_test = (1177, 2)\n",
            "y_train = (10584, 2)\n"
          ],
          "name": "stdout"
        }
      ]
    },
    {
      "cell_type": "markdown",
      "metadata": {
        "id": "JdXs6BHkZHEY",
        "colab_type": "text"
      },
      "source": [
        "Se realiza una limpieza de la base de datos"
      ]
    },
    {
      "cell_type": "code",
      "metadata": {
        "id": "QNJ8s-BD1Lmj",
        "colab_type": "code",
        "colab": {}
      },
      "source": [
        "import numpy as np\n",
        "\n",
        "exclude = [72,203,372,462,474,497,560,571,576,795,832,876,114,1178,1183,122,1229,1241,1245,1247,1272,1285,1305,1362,1413,1414,1424,1492,1499,1539,1542,1548,1634,1638,1643,1659,1674,1708,1758,1760,1820,1861,1908,1909,1913,1927,1929,1959,1992,2000,2043]\n",
        "exclude = np.concatenate((exclude,[2081,2082,2117,2130,2135,2140,2222,2213,2226,2236,2272,2301,2307,2423,2436,2443,2490,2525,2514,2541,2544,2556,2548,2583,2593,2617,2632,2663,2677,2689,2693,2695,2713,2753,2778,2833,2829,2821,2845,2876,2894,2901,2943,2945,2924,2954,2974,2981,2996,3008,3022,3026,3029,3036,3037,3058,3099,3133,3148,3173,3165,3247,3251,3259,3264,3265,3330,3337,3343,3361,3374,3375,3409,3418,3479,3500,3522,3537,3543,3557,3560,3565,3570,3571,3584,3606,3629,3630,3637,3646,3663,3670,3673,3734,3744,3758,3768,3773,3775,3787,3799,3814,3834,3841,3868,3871,3885,3895,3819,3901,3906,3953,3976,4015,4085,4089]))\n",
        "exclude = np.concatenate((exclude,[4137,4147,4180,4173,4221,4191,4291,4373,4372,4418,4453,4595,4653,4654,4665,4684,4696,4766,4774,4775,4778,4794,4844,4845,4892,4926,4928,4949,4958,4965,4978,5054,5063,5219,5224,5232,5233,5383,5422,5442,5466,5574,5757,5778,5791,5813,5839,5927,5918,6011,6102,6127,6210,6270,6274,6230,6231,6376,6378,6385,6399,6421,6439]))\n",
        "exclude = np.concatenate((exclude,[6331,6330,6344,6376,6399,6404,6458,6510,6520,6559,6555,6551]))\n",
        "exclude = np.concatenate((exclude,[6578,6617,6665,6685,6686,6712,6716,6749,6766,6812,6804,6825,6843,6878,6912,6929,6925,6974,6984,6992,7009,7014,7017,7052,7035,7057,7126,7111,7088,7101,7109,7114,7137,7138,7140,7153,7179,7197,7198,7209,7241,7263,7264,7271,7285,7303,7300,7313,7322,7327,7341,7383,7387,7406,7403,7499,7420,7421,7426,7437,7445,7471,7466,7490,7497,7526,7519,7542,7545,7589,7586,7594,7613,7615,7616,7619,7623,7630,7644,7651,7677,7702,7684,7722,7728,7741,7749,7753,7759,7764,7770,7777,7812,7827,7882,7887,7943,7941,7932,7949,7972,7974,8012,8005,8004,8003,7989,7984,7981,8020,8021,8058,8074,8070,8084,8094,8091,8096,8140,8152,8157,8162,8183,8173,8099,8207,8211,8216,8222,8230,8239,8246,8260,8272,8275,8277,8280,8282,8312,8309,8282,8312,8309,8297,8293,8322,8333,8348,8386,8394,8412,8425,8428,8436,8446,8451,8452,8468,8471,8491,8501,8504,8534,8535,8564,8568,8575,8591,8599,8600,8608,8615,8617,8638,8655,8661,8675,8676,8714,8711,8727,8734,8737,8740,8746,8768,8788,8789,8791,8801,8795,8806,8841,8852,8870,8882,8874,8900,8925,8933,8936,8944,8902,8979,8984,8993,9005,9022,9034,9059,9084,9113,9148,9147,9140,9138,9154,9164,9181,9157,9195,9202,9209,9229,9234,9270,9271,9275,9311,9329,9345,9359,9379,9368,9388,9413,9416,9410,9450,9452,9458,9460,9485,9495,9502,9507,9531,9551,9576,9593,9602,9624,9614,9675,9692,9701,9717,9715,9712,9708,9762,9776,9778,9798,9817,9816,9813,9825,9868,9903,9908,9968,9993,10035,10023,10040,10045,10046,10063,10056,10076,10077,10098,10114,10126,10127,10137,10154,10151,10149,10162,10186,10183,10180,10176,10192,10196,10198,10202,10209,10224,10241,10268,10273,10278,10280,10284,10293,10305,10318,10335,10340,10352,10348,10346,10364,10368,10388,10397,10436,10434,10442,10443,10445,10449,10457,10461,10468,10485,10515,10535,10576]))\n",
        "exclude = np.delete(range(X_train.shape[0]), exclude)\n",
        "X_train=X_train[exclude,]\n",
        "y_train=y_train[exclude,]"
      ],
      "execution_count": null,
      "outputs": []
    },
    {
      "cell_type": "code",
      "metadata": {
        "id": "Co6QRWe81Qqo",
        "colab_type": "code",
        "colab": {}
      },
      "source": [
        "exclude = [8,23,45,49,50,53,59,64,71,100,93,131,146,163,180,182,189,194,221,231,232,237,252,260,263,264,276,296,305,311,314,322,323,332,336,343,360,364,395,434,503,492,508,509,542,533,530,528,543,545,570,616,613,611,631,636,644,639,652,682,683,685,686,690,719,712,732,773,762,836,838,847,858,861,867,891,908,911,916,927,941,942,970,997,991,986,984,1004,1012,1036,1033,1038,1044,1050,1077,1078,1085,1087,1097,1093,1024,1031,1033,1036,1067,100,1055,1073]\n",
        "exclude= np.delete(range(X_test.shape[0]), exclude)\n",
        "X_test=X_test[exclude,]\n",
        "y_test=y_test[exclude,]"
      ],
      "execution_count": null,
      "outputs": []
    },
    {
      "cell_type": "code",
      "metadata": {
        "id": "L_q-bLbn1TZO",
        "colab_type": "code",
        "colab": {
          "base_uri": "https://localhost:8080/",
          "height": 51
        },
        "outputId": "4283390a-626b-4e69-d34f-9ec4e404377b"
      },
      "source": [
        "datos = np.concatenate((X_test,X_train))\n",
        "y_sexo = np.concatenate((y_test,y_train))\n",
        "print('Datos=',datos.shape)\n",
        "print('Sexo=',y_sexo.shape) "
      ],
      "execution_count": null,
      "outputs": [
        {
          "output_type": "stream",
          "text": [
            "Datos= (11087, 200, 200, 3)\n",
            "Sexo= (11087, 2)\n"
          ],
          "name": "stdout"
        }
      ]
    },
    {
      "cell_type": "code",
      "metadata": {
        "id": "GjGTqET786wc",
        "colab_type": "code",
        "colab": {}
      },
      "source": [
        "del X_train\n",
        "del X_test\n",
        "del y_test\n",
        "del y_train"
      ],
      "execution_count": null,
      "outputs": []
    },
    {
      "cell_type": "markdown",
      "metadata": {
        "id": "m1MEPC4oZXPI",
        "colab_type": "text"
      },
      "source": [
        "Se particionan los datos para uso interno/ externo"
      ]
    },
    {
      "cell_type": "code",
      "metadata": {
        "id": "mLpKvZw31WuH",
        "colab_type": "code",
        "colab": {}
      },
      "source": [
        "from sklearn.model_selection import train_test_split\n",
        "data_int, data_ext = train_test_split(datos, test_size=0.2, random_state=10)\n",
        "sexo_int, sexo_ext = train_test_split(y_sexo, test_size=0.2, random_state=10)"
      ],
      "execution_count": null,
      "outputs": []
    },
    {
      "cell_type": "markdown",
      "metadata": {
        "id": "nr8pE3-jZfRA",
        "colab_type": "text"
      },
      "source": [
        "Se realiza una segunda limpieza de datos mal etiquetados"
      ]
    },
    {
      "cell_type": "code",
      "metadata": {
        "id": "iDV4cCcw8fhx",
        "colab_type": "code",
        "colab": {}
      },
      "source": [
        "exclude = [55,100,112,121,185,220,234,243,251,280,300,302,327,336,350,423,505,543,602,609,625,645,685,739,748,803,877,885,900,901,909,918,939,980,995,1019,1052,1079,1082,1095,1132,1136,1166,1181,1185,1186,1202,1209,1214,1218,1277,1287,1293,1344,1378,1426,1433,1453,1476,1491,1510,1514,1521,1545,1564,1577,1595,1651,1675,1734,1752,1811,1830,1875,1877,1957,1976,1979,2004,2011,2034,2069,2076,2127,2134,2146,2150,155,205,341,351,470,633,644,704,723,1362,1452,1492,1610,1853,79,92,149,198,228,332,395,435,440,527,524,566,568,614,678,665,729,915,916,984,1141,1160,1203,1245,1256,1346,1527,1549,1623,1702,1742,1807,1802,1926,1968,1988,2000,2007,2021,2077,2072,2119,2172,162,183,572,727,1601,1777,1892,1955,2079,2064,2138]\n",
        "exclude= np.delete(range(data_ext.shape[0]), exclude)\n",
        "data_ext=data_ext[exclude,]\n",
        "sexo_ext=sexo_ext[exclude,]"
      ],
      "execution_count": null,
      "outputs": []
    },
    {
      "cell_type": "markdown",
      "metadata": {
        "id": "NaxZvXl3Zkk5",
        "colab_type": "text"
      },
      "source": [
        "Se guardan los resultados en archivos comprimidos"
      ]
    },
    {
      "cell_type": "code",
      "metadata": {
        "id": "WVSdocBN6M_P",
        "colab_type": "code",
        "colab": {}
      },
      "source": [
        "from numpy import asarray\n",
        "from numpy import savez_compressed\n",
        "savez_compressed('/content/drive/My Drive/Mineria/Interna/datos/X_HM_val_ext.npz',data_ext)\n",
        "savez_compressed('/content/drive/My Drive/Mineria/Interna/datos/y_HM_val_ext.npz',sexo_ext)"
      ],
      "execution_count": null,
      "outputs": []
    },
    {
      "cell_type": "code",
      "metadata": {
        "id": "qxhoipC-7inn",
        "colab_type": "code",
        "colab": {}
      },
      "source": [
        "del datos\n",
        "del y_sexo\n",
        "del data_ext\n",
        "del sexo_ext"
      ],
      "execution_count": null,
      "outputs": []
    },
    {
      "cell_type": "code",
      "metadata": {
        "id": "ePzKv6w30N8u",
        "colab_type": "code",
        "colab": {
          "base_uri": "https://localhost:8080/",
          "height": 51
        },
        "outputId": "44c8fe2a-910f-4a96-f736-bef50eff0351"
      },
      "source": [
        "print('x_test =',data_int.shape)\n",
        "print('y_test =',sexo_int.shape)"
      ],
      "execution_count": null,
      "outputs": [
        {
          "output_type": "stream",
          "text": [
            "x_test = (8869, 200, 200, 3)\n",
            "y_test = (8869, 101)\n"
          ],
          "name": "stdout"
        }
      ]
    },
    {
      "cell_type": "markdown",
      "metadata": {
        "id": "F5X-3lNyZqVQ",
        "colab_type": "text"
      },
      "source": [
        "Se particiona el conjunto de datos interno; luego de realizar una segunda limpieza de la base de datos. "
      ]
    },
    {
      "cell_type": "code",
      "metadata": {
        "id": "p_smx-qu8ZIp",
        "colab_type": "code",
        "colab": {}
      },
      "source": [
        "from sklearn.model_selection import train_test_split\n",
        "x_train, x_test = train_test_split(data_int, test_size=0.2, random_state=10)\n",
        "y_train, y_test = train_test_split(sexo_int, test_size=0.2, random_state=10)"
      ],
      "execution_count": null,
      "outputs": []
    },
    {
      "cell_type": "code",
      "metadata": {
        "id": "YtXkBhyrKRZo",
        "colab_type": "code",
        "colab": {}
      },
      "source": [
        "del data_int\n",
        "del sexo_int"
      ],
      "execution_count": null,
      "outputs": []
    },
    {
      "cell_type": "code",
      "metadata": {
        "id": "l_St8QGOFhjE",
        "colab_type": "code",
        "colab": {
          "base_uri": "https://localhost:8080/",
          "height": 85
        },
        "outputId": "e47685f2-f120-46f2-82fa-a0a755ba779a"
      },
      "source": [
        "print('x_test =',x_test.shape)\n",
        "print('x_train =',x_train.shape)\n",
        "print('y_test =',y_test.shape)\n",
        "print('y_train =',y_train.shape)"
      ],
      "execution_count": null,
      "outputs": [
        {
          "output_type": "stream",
          "text": [
            "x_test = (1774, 200, 200, 3)\n",
            "x_train = (7095, 200, 200, 3)\n",
            "y_test = (1774, 101)\n",
            "y_train = (7095, 101)\n"
          ],
          "name": "stdout"
        }
      ]
    },
    {
      "cell_type": "code",
      "metadata": {
        "id": "Eg7mq0UhoDUw",
        "colab_type": "code",
        "colab": {}
      },
      "source": [
        "exclude = [158,255,629,765,804,1076,1171,1172,1205,1355,1558,1827,2345,2461,2656,2750,2756,2907,3327,3386,3391,3605,3661,4085,4209,4332,5083,5450,5592,5598,5910,5989,6098,6121,6341,6324,6364,6520,6992,7014,7044,32,45,48,73,85,148,179,192,212,213,250,279,464,515,532,579,539,520,623,630,694,748,774,867,819,810,942,963,967,1030,1039,1077,1134,148,1158,1282,1290,1365,1437,1465,1437,1465,1561,1663,1702,1729,1736,1748,1814,1885,1889,1916,1921,1935,1967,1988,2009,2035,2049,2127,2180,2182,2218,2256,2288,2330,2360,2375,2511,2519,2585,2582,2587,2855,2983,3123,3165,3174,3200,3235,3290,3298,3300,3534,3518,3501,3498,3485,3590,3664,3730,3804,3880,3917,3932,3939,3954,3962,4008,4052,4141,4169,4249,4245,4239,4226,4181,4309,4505,4461,4457,4439,4544,4547,4595,4639,4664,4671,4830,4844,4840,4863,4911,4978,4985,5043,5058,5097,5162,5167,5173,5253,5310,5330,5384,5407,5425,5435,5488,5486,5473,5470,5469,5650,5772,5823,5924,5955,5976,5996,6076,6167,6090,6236,6251,6279,6290,6341,6399,6414,6578,6691,6694,6698,6730,6780,6785,6825,6828,6842,6884,6907,6923,6924,6938,6980,7046,7061,7064,7074]\n",
        "exclude= np.delete(range(x_train.shape[0]), exclude)\n",
        "x_train=x_train[exclude,]\n",
        "y_train=y_train[exclude,]"
      ],
      "execution_count": null,
      "outputs": []
    },
    {
      "cell_type": "code",
      "metadata": {
        "id": "tjwVA3JerjXl",
        "colab_type": "code",
        "colab": {}
      },
      "source": [
        "exclude = [1550,1606,1659,1661,1689,1714,1716,1724,1728,22,51,54,61,79,87,179,188,192,216,235,352,378,380,423,449,476,492,539,556,577,589,638,656,674,738,755,789,803,823,850,897,907,964,971,980,983,985,993,1005,1043,1047,1060,1203,1317,1360,1364,1358,1428,472]\n",
        "exclude= np.delete(range(x_test.shape[0]), exclude)\n",
        "x_test=x_test[exclude,]\n",
        "y_test=y_test[exclude,]"
      ],
      "execution_count": null,
      "outputs": []
    },
    {
      "cell_type": "code",
      "metadata": {
        "id": "NU7DO-1uI2lT",
        "colab_type": "code",
        "colab": {
          "base_uri": "https://localhost:8080/",
          "height": 85
        },
        "outputId": "546675fa-0c02-49f3-ee4a-920d0354afd9"
      },
      "source": [
        "print('x_test =',x_test.shape)\n",
        "print('x_train =',x_train.shape)\n",
        "print('y_test =',y_test.shape)\n",
        "print('y_train =',y_train.shape)"
      ],
      "execution_count": null,
      "outputs": [
        {
          "output_type": "stream",
          "text": [
            "x_test = (1715, 200, 200, 3)\n",
            "x_train = (6878, 200, 200, 3)\n",
            "y_test = (1715, 101)\n",
            "y_train = (6878, 101)\n"
          ],
          "name": "stdout"
        }
      ]
    },
    {
      "cell_type": "code",
      "metadata": {
        "id": "jNtQqF0PtTVN",
        "colab_type": "code",
        "colab": {
          "base_uri": "https://localhost:8080/",
          "height": 51
        },
        "outputId": "6ae1a76c-ddf9-41bd-a578-c18d3e6df3b4"
      },
      "source": [
        "x_test = np.concatenate((x_test,x_train))\n",
        "y_test = np.concatenate((y_test,y_train))\n",
        "print('Datos=',x_test.shape)\n",
        "print('Sexo=',y_test.shape) "
      ],
      "execution_count": null,
      "outputs": [
        {
          "output_type": "stream",
          "text": [
            "Datos= (8593, 200, 200, 3)\n",
            "Sexo= (8593, 101)\n"
          ],
          "name": "stdout"
        }
      ]
    },
    {
      "cell_type": "code",
      "metadata": {
        "id": "MnpStyuzviTI",
        "colab_type": "code",
        "colab": {}
      },
      "source": [
        "from sklearn.model_selection import train_test_split\n",
        "x_train, x_test = train_test_split(x_test, test_size=0.2, random_state=42)\n",
        "y_train, y_test = train_test_split(y_test, test_size=0.2, random_state=42)"
      ],
      "execution_count": null,
      "outputs": []
    },
    {
      "cell_type": "code",
      "metadata": {
        "id": "H7RbMR55bWhS",
        "colab_type": "code",
        "colab": {
          "base_uri": "https://localhost:8080/",
          "height": 85
        },
        "outputId": "87f1434c-d085-45d5-bc6f-833781e7c652"
      },
      "source": [
        "print('x_test =',x_test.shape)\n",
        "print('x_train =',x_train.shape)\n",
        "print('y_test =',y_test.shape)\n",
        "print('y_train =',y_train.shape)"
      ],
      "execution_count": null,
      "outputs": [
        {
          "output_type": "stream",
          "text": [
            "x_test = (1719, 200, 200, 3)\n",
            "x_train = (6874, 200, 200, 3)\n",
            "y_test = (1719, 101)\n",
            "y_train = (6874, 101)\n"
          ],
          "name": "stdout"
        }
      ]
    },
    {
      "cell_type": "markdown",
      "metadata": {
        "id": "BSirpufIaAhK",
        "colab_type": "text"
      },
      "source": [
        "Se guardan los datos en archivos comprimidos"
      ]
    },
    {
      "cell_type": "code",
      "metadata": {
        "id": "MpibYc8-0IkS",
        "colab_type": "code",
        "colab": {}
      },
      "source": [
        "from numpy import asarray\n",
        "from numpy import savez_compressed\n",
        "savez_compressed('/content/drive/My Drive/Mineria/Interna/datos/X_E_train.npz',x_train)\n",
        "savez_compressed('/content/drive/My Drive/Mineria/Interna/datos/y_E_train.npz',y_train)\n",
        "savez_compressed('/content/drive/My Drive/Mineria/Interna/datos/X_E_val_int.npz',x_test)\n",
        "savez_compressed('/content/drive/My Drive/Mineria/Interna/datos/y_E_val_int.npz',y_test)"
      ],
      "execution_count": null,
      "outputs": []
    },
    {
      "cell_type": "markdown",
      "metadata": {
        "id": "PR7ICn_LaFp5",
        "colab_type": "text"
      },
      "source": [
        "Se comprueba su correcta carga"
      ]
    },
    {
      "cell_type": "code",
      "metadata": {
        "id": "Ab2gJN3cUewb",
        "colab_type": "code",
        "colab": {}
      },
      "source": [
        "from numpy import load\n",
        "import os\n",
        "os.chdir('/content/drive/My Drive/Mineria/Train-Test 90%')\n",
        "\n",
        "datos= load('/content/drive/My Drive/Mineria/Interna/datos/X_HM_train.npz') ; x_train = datos['arr_0']\n",
        "datos= load('/content/drive/My Drive/Mineria/Interna/datos/y_HM_train.npz') ; y_train = datos['arr_0']\n",
        "datos= load('/content/drive/My Drive/Mineria/Interna/datos/y_HM_val_int.npz') ; y_test = datos['arr_0']\n",
        "datos= load('/content/drive/My Drive/Mineria/Interna/datos/X_HM_val_int.npz') ; x_test = datos['arr_0']\n",
        "datos= load('/content/drive/My Drive/Mineria/Interna/datos/y_HM_val_ext.npz') ; y_test2 = datos['arr_0']\n",
        "datos= load('/content/drive/My Drive/Mineria/Interna/datos/X_HM_val_ext.npz') ; x_test2 = datos['arr_0']"
      ],
      "execution_count": null,
      "outputs": []
    },
    {
      "cell_type": "code",
      "metadata": {
        "id": "EwjMjB7zU7oL",
        "colab_type": "code",
        "colab": {
          "base_uri": "https://localhost:8080/",
          "height": 119
        },
        "outputId": "83711721-b01b-488c-ebcf-5e4c4cc59e9a"
      },
      "source": [
        "print('x_test =',x_train.shape)\n",
        "print('x_train =',y_train.shape)\n",
        "print('y_test =',y_test.shape)\n",
        "print('y_train =',x_test.shape)\n",
        "print('y_test2 =',y_test2.shape)\n",
        "print('x_test2 =',x_test2.shape)"
      ],
      "execution_count": null,
      "outputs": [
        {
          "output_type": "stream",
          "text": [
            "x_test = (6874, 200, 200, 3)\n",
            "x_train = (6874, 2)\n",
            "y_test = (1719, 2)\n",
            "y_train = (1719, 2)\n",
            "y_test2 = (2218, 2)\n",
            "x_test2 = (2218, 2)\n"
          ],
          "name": "stdout"
        }
      ]
    }
  ]
}