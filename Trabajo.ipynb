{
  "nbformat": 4,
  "nbformat_minor": 0,
  "metadata": {
    "kernelspec": {
      "display_name": "Python 3",
      "language": "python",
      "name": "python3"
    },
    "language_info": {
      "codemirror_mode": {
        "name": "ipython",
        "version": 3
      },
      "file_extension": ".py",
      "mimetype": "text/x-python",
      "name": "python",
      "nbconvert_exporter": "python",
      "pygments_lexer": "ipython3",
      "version": "3.7.6"
    },
    "colab": {
      "name": "Trabajo.ipynb",
      "provenance": [],
      "machine_shape": "hm"
    },
    "accelerator": "TPU"
  },
  "cells": [
    {
      "cell_type": "code",
      "metadata": {
        "id": "Pg8CWaFjF3q1",
        "colab_type": "code",
        "outputId": "7d4dfbd2-cfa6-418b-eae7-399008065401",
        "colab": {
          "base_uri": "https://localhost:8080/",
          "height": 54
        }
      },
      "source": [
        "\"\"\" Para cargar desde el compu c: \n",
        "from os import listdir\n",
        "from os.path import isfile, join\n",
        "def ls(ruta = '.'):\n",
        "    return [arch for arch in listdir(ruta) if isfile(join(ruta, arch))]\n",
        "\n",
        "os.chdir(\"/home/valentina/my_git/Mineriadatos\")\n",
        "at = pd.read_csv('atributos.csv')\n",
        "os.chdir(\"/home/valentina/my_git/Mineriadatos/UTKFace\")\n",
        "\n",
        "print(os.getcwd())\n",
        "archivos=ls()\n",
        "len(archivos)\"\"\""
      ],
      "execution_count": 0,
      "outputs": [
        {
          "output_type": "execute_result",
          "data": {
            "text/plain": [
              "' Para cargar desde el compu c: \\ndef ls(ruta = \\'.\\'):\\n    return [arch for arch in listdir(ruta) if isfile(join(ruta, arch))]\\n\\nos.chdir(\"/home/valentina/my_git/Mineriadatos\")\\nat = pd.read_csv(\\'atributos.csv\\')\\nos.chdir(\"/home/valentina/my_git/Mineriadatos/UTKFace\")\\n\\narchivos=ls()\\nlen(archivos)'"
            ]
          },
          "metadata": {
            "tags": []
          },
          "execution_count": 6
        }
      ]
    },
    {
      "cell_type": "code",
      "metadata": {
        "id": "7VRBK6M7EyxQ",
        "colab_type": "code",
        "outputId": "c0b2ce84-dfc1-42ba-e442-32355517a565",
        "colab": {
          "base_uri": "https://localhost:8080/",
          "height": 54
        }
      },
      "source": [
        "from google.colab import drive\n",
        "drive.mount('/content/drive')"
      ],
      "execution_count": 2,
      "outputs": [
        {
          "output_type": "stream",
          "text": [
            "Drive already mounted at /content/drive; to attempt to forcibly remount, call drive.mount(\"/content/drive\", force_remount=True).\n"
          ],
          "name": "stdout"
        }
      ]
    },
    {
      "cell_type": "code",
      "metadata": {
        "id": "v5qonI9_ElvM",
        "colab_type": "code",
        "colab": {}
      },
      "source": [
        "import os\n",
        "import pandas as pd\n",
        "import numpy as np\n",
        "import tensorflow as tf\n",
        "from skimage import io\n",
        "import numpy as np\n",
        "import matplotlib.pyplot as plt\n",
        "import tarfile\n",
        "# example of converting an image with the Keras API\n",
        "from keras.preprocessing.image import load_img\n",
        "from keras.preprocessing.image import img_to_array\n",
        "from keras.preprocessing.image import array_to_img"
      ],
      "execution_count": 0,
      "outputs": []
    },
    {
      "cell_type": "code",
      "metadata": {
        "id": "XlUU5G4k2o2i",
        "colab_type": "code",
        "colab": {}
      },
      "source": [
        "tar = tarfile.open('/content/drive/My Drive/UTKFace.tar.gz')\n",
        "tar.extractall()"
      ],
      "execution_count": 0,
      "outputs": []
    },
    {
      "cell_type": "code",
      "metadata": {
        "id": "_7SGokEXHJ5i",
        "colab_type": "code",
        "outputId": "9bb5b80e-1250-4a25-8fe8-e334ac94a88c",
        "colab": {
          "base_uri": "https://localhost:8080/",
          "height": 419
        }
      },
      "source": [
        "at = pd.read_csv('/content/drive/My Drive/Mineria/atributos.csv')\n",
        "at"
      ],
      "execution_count": 5,
      "outputs": [
        {
          "output_type": "execute_result",
          "data": {
            "text/html": [
              "<div>\n",
              "<style scoped>\n",
              "    .dataframe tbody tr th:only-of-type {\n",
              "        vertical-align: middle;\n",
              "    }\n",
              "\n",
              "    .dataframe tbody tr th {\n",
              "        vertical-align: top;\n",
              "    }\n",
              "\n",
              "    .dataframe thead th {\n",
              "        text-align: right;\n",
              "    }\n",
              "</style>\n",
              "<table border=\"1\" class=\"dataframe\">\n",
              "  <thead>\n",
              "    <tr style=\"text-align: right;\">\n",
              "      <th></th>\n",
              "      <th>Id</th>\n",
              "      <th>edad</th>\n",
              "      <th>mujer</th>\n",
              "      <th>raza_0a4</th>\n",
              "    </tr>\n",
              "  </thead>\n",
              "  <tbody>\n",
              "    <tr>\n",
              "      <th>0</th>\n",
              "      <td>UTKFace/1_0_0_20161219140623097.jpg.chip.jpg</td>\n",
              "      <td>1</td>\n",
              "      <td>0</td>\n",
              "      <td>0</td>\n",
              "    </tr>\n",
              "    <tr>\n",
              "      <th>1</th>\n",
              "      <td>UTKFace/1_0_0_20161219140627985.jpg.chip.jpg</td>\n",
              "      <td>1</td>\n",
              "      <td>0</td>\n",
              "      <td>0</td>\n",
              "    </tr>\n",
              "    <tr>\n",
              "      <th>2</th>\n",
              "      <td>UTKFace/1_0_0_20161219140642920.jpg.chip.jpg</td>\n",
              "      <td>1</td>\n",
              "      <td>0</td>\n",
              "      <td>0</td>\n",
              "    </tr>\n",
              "    <tr>\n",
              "      <th>3</th>\n",
              "      <td>UTKFace/1_0_0_20161219154018476.jpg.chip.jpg</td>\n",
              "      <td>1</td>\n",
              "      <td>0</td>\n",
              "      <td>0</td>\n",
              "    </tr>\n",
              "    <tr>\n",
              "      <th>4</th>\n",
              "      <td>UTKFace/1_0_0_20161219154556757.jpg.chip.jpg</td>\n",
              "      <td>1</td>\n",
              "      <td>0</td>\n",
              "      <td>0</td>\n",
              "    </tr>\n",
              "    <tr>\n",
              "      <th>...</th>\n",
              "      <td>...</td>\n",
              "      <td>...</td>\n",
              "      <td>...</td>\n",
              "      <td>...</td>\n",
              "    </tr>\n",
              "    <tr>\n",
              "      <th>23700</th>\n",
              "      <td>UTKFace/99_1_0_20170120134718759.jpg.chip.jpg</td>\n",
              "      <td>99</td>\n",
              "      <td>1</td>\n",
              "      <td>0</td>\n",
              "    </tr>\n",
              "    <tr>\n",
              "      <th>23701</th>\n",
              "      <td>UTKFace/99_1_0_20170120221920654.jpg.chip.jpg</td>\n",
              "      <td>99</td>\n",
              "      <td>1</td>\n",
              "      <td>0</td>\n",
              "    </tr>\n",
              "    <tr>\n",
              "      <th>23702</th>\n",
              "      <td>UTKFace/99_1_1_20170120134639935.jpg.chip.jpg</td>\n",
              "      <td>99</td>\n",
              "      <td>1</td>\n",
              "      <td>1</td>\n",
              "    </tr>\n",
              "    <tr>\n",
              "      <th>23703</th>\n",
              "      <td>UTKFace/99_1_2_20170110182418864.jpg.chip.jpg</td>\n",
              "      <td>99</td>\n",
              "      <td>1</td>\n",
              "      <td>2</td>\n",
              "    </tr>\n",
              "    <tr>\n",
              "      <th>23704</th>\n",
              "      <td>UTKFace/99_1_2_20170117195405372.jpg.chip.jpg</td>\n",
              "      <td>99</td>\n",
              "      <td>1</td>\n",
              "      <td>2</td>\n",
              "    </tr>\n",
              "  </tbody>\n",
              "</table>\n",
              "<p>23705 rows × 4 columns</p>\n",
              "</div>"
            ],
            "text/plain": [
              "                                                  Id  edad  mujer  raza_0a4\n",
              "0       UTKFace/1_0_0_20161219140623097.jpg.chip.jpg     1      0         0\n",
              "1       UTKFace/1_0_0_20161219140627985.jpg.chip.jpg     1      0         0\n",
              "2       UTKFace/1_0_0_20161219140642920.jpg.chip.jpg     1      0         0\n",
              "3       UTKFace/1_0_0_20161219154018476.jpg.chip.jpg     1      0         0\n",
              "4       UTKFace/1_0_0_20161219154556757.jpg.chip.jpg     1      0         0\n",
              "...                                              ...   ...    ...       ...\n",
              "23700  UTKFace/99_1_0_20170120134718759.jpg.chip.jpg    99      1         0\n",
              "23701  UTKFace/99_1_0_20170120221920654.jpg.chip.jpg    99      1         0\n",
              "23702  UTKFace/99_1_1_20170120134639935.jpg.chip.jpg    99      1         1\n",
              "23703  UTKFace/99_1_2_20170110182418864.jpg.chip.jpg    99      1         2\n",
              "23704  UTKFace/99_1_2_20170117195405372.jpg.chip.jpg    99      1         2\n",
              "\n",
              "[23705 rows x 4 columns]"
            ]
          },
          "metadata": {
            "tags": []
          },
          "execution_count": 5
        }
      ]
    },
    {
      "cell_type": "code",
      "metadata": {
        "id": "MDxwA-nQElve",
        "colab_type": "code",
        "outputId": "c528442b-beaa-4d40-d338-28beae71eb3b",
        "colab": {
          "base_uri": "https://localhost:8080/",
          "height": 1000
        }
      },
      "source": [
        "i=23704\n",
        "print(at.Id[i])\n",
        "image=io.imread(at.Id[i])\n",
        "plt.imshow(image)\n",
        "\n",
        "Idata=np.array(image)\n",
        "print(\"\\nLa imagen tiene forma: \",Idata.shape,\"\\n\")\n",
        "print(Idata)"
      ],
      "execution_count": 6,
      "outputs": [
        {
          "output_type": "stream",
          "text": [
            "UTKFace/99_1_2_20170117195405372.jpg.chip.jpg\n",
            "\n",
            "La imagen tiene forma:  (200, 200, 3) \n",
            "\n",
            "[[[18 13 10]\n",
            "  [17 12  8]\n",
            "  [38 33 29]\n",
            "  ...\n",
            "  [43 32 26]\n",
            "  [48 38 29]\n",
            "  [59 46 38]]\n",
            "\n",
            " [[18 13 10]\n",
            "  [25 20 16]\n",
            "  [52 47 43]\n",
            "  ...\n",
            "  [56 45 39]\n",
            "  [56 46 37]\n",
            "  [60 47 39]]\n",
            "\n",
            " [[21 13 10]\n",
            "  [36 31 27]\n",
            "  [70 65 61]\n",
            "  ...\n",
            "  [67 56 50]\n",
            "  [62 51 45]\n",
            "  [59 46 38]]\n",
            "\n",
            " ...\n",
            "\n",
            " [[ 1  3  2]\n",
            "  [ 0  2  1]\n",
            "  [ 0  1  2]\n",
            "  ...\n",
            "  [38 40 29]\n",
            "  [37 39 28]\n",
            "  [37 38 30]]\n",
            "\n",
            " [[ 0  1  0]\n",
            "  [ 0  1  0]\n",
            "  [ 0  1  2]\n",
            "  ...\n",
            "  [33 35 24]\n",
            "  [28 29 21]\n",
            "  [23 24 16]]\n",
            "\n",
            " [[ 2  4  3]\n",
            "  [ 4  6  5]\n",
            "  [ 6 10 11]\n",
            "  ...\n",
            "  [22 23 15]\n",
            "  [13 14  6]\n",
            "  [ 5  6  0]]]\n"
          ],
          "name": "stdout"
        },
        {
          "output_type": "display_data",
          "data": {
            "image/png": "[encoded data removed]",
            "text/plain": [
              "<Figure size 432x288 with 1 Axes>"
            ]
          },
          "metadata": {
            "tags": [],
            "needs_background": "light"
          }
        }
      ]
    },
    {
      "cell_type": "code",
      "metadata": {
        "id": "pBc0s3NqElvm",
        "colab_type": "code",
        "outputId": "20c889a0-93dc-4633-d515-6cec781e564d",
        "colab": {
          "base_uri": "https://localhost:8080/",
          "height": 187
        }
      },
      "source": [
        "for i in range(2000,2010): \n",
        "    x=at.Id[i]\n",
        "    image=io.imread(x)\n",
        "    print(image.shape)"
      ],
      "execution_count": 7,
      "outputs": [
        {
          "output_type": "stream",
          "text": [
            "(200, 200, 3)\n",
            "(200, 200, 3)\n",
            "(200, 200, 3)\n",
            "(200, 200, 3)\n",
            "(200, 200, 3)\n",
            "(200, 200, 3)\n",
            "(200, 200, 3)\n",
            "(200, 200, 3)\n",
            "(200, 200, 3)\n",
            "(200, 200, 3)\n"
          ],
          "name": "stdout"
        }
      ]
    },
    {
      "cell_type": "code",
      "metadata": {
        "id": "yBbNxcR83RBu",
        "colab_type": "code",
        "colab": {}
      },
      "source": [
        "dataset_array = []\n",
        "\n",
        "for i in range(at.shape[0]):\n",
        "  img = load_img(at.Id[i])\n",
        "  img_array = img_to_array(img)\n",
        "  dataset_array.append(img_array)\n",
        "\n",
        "dataset_array2 = np.array(dataset_array)"
      ],
      "execution_count": 0,
      "outputs": []
    },
    {
      "cell_type": "code",
      "metadata": {
        "id": "jXiBebiP296K",
        "colab_type": "code",
        "colab": {
          "base_uri": "https://localhost:8080/",
          "height": 850
        },
        "outputId": "9b9e4438-2682-46c3-ea75-ce4c88c2b72f"
      },
      "source": [
        "dataset_array2[23704]"
      ],
      "execution_count": 6,
      "outputs": [
        {
          "output_type": "execute_result",
          "data": {
            "text/plain": [
              "array([[[18., 13., 10.],\n",
              "        [17., 12.,  8.],\n",
              "        [38., 33., 29.],\n",
              "        ...,\n",
              "        [43., 32., 26.],\n",
              "        [48., 38., 29.],\n",
              "        [59., 46., 38.]],\n",
              "\n",
              "       [[18., 13., 10.],\n",
              "        [25., 20., 16.],\n",
              "        [52., 47., 43.],\n",
              "        ...,\n",
              "        [56., 45., 39.],\n",
              "        [56., 46., 37.],\n",
              "        [60., 47., 39.]],\n",
              "\n",
              "       [[21., 13., 10.],\n",
              "        [36., 31., 27.],\n",
              "        [70., 65., 61.],\n",
              "        ...,\n",
              "        [67., 56., 50.],\n",
              "        [62., 51., 45.],\n",
              "        [59., 46., 38.]],\n",
              "\n",
              "       ...,\n",
              "\n",
              "       [[ 1.,  3.,  2.],\n",
              "        [ 0.,  2.,  1.],\n",
              "        [ 0.,  1.,  2.],\n",
              "        ...,\n",
              "        [38., 40., 29.],\n",
              "        [37., 39., 28.],\n",
              "        [37., 38., 30.]],\n",
              "\n",
              "       [[ 0.,  1.,  0.],\n",
              "        [ 0.,  1.,  0.],\n",
              "        [ 0.,  1.,  2.],\n",
              "        ...,\n",
              "        [33., 35., 24.],\n",
              "        [28., 29., 21.],\n",
              "        [23., 24., 16.]],\n",
              "\n",
              "       [[ 2.,  4.,  3.],\n",
              "        [ 4.,  6.,  5.],\n",
              "        [ 6., 10., 11.],\n",
              "        ...,\n",
              "        [22., 23., 15.],\n",
              "        [13., 14.,  6.],\n",
              "        [ 5.,  6.,  0.]]], dtype=float32)"
            ]
          },
          "metadata": {
            "tags": []
          },
          "execution_count": 6
        }
      ]
    },
    {
      "cell_type": "code",
      "metadata": {
        "id": "rlVL2u_kAhPm",
        "colab_type": "code",
        "colab": {
          "base_uri": "https://localhost:8080/",
          "height": 34
        },
        "outputId": "63a1e904-dcec-445b-b54c-269bf95f9b6c"
      },
      "source": [
        "type(dataset_array2)\n",
        "dataset_array2.shape"
      ],
      "execution_count": 7,
      "outputs": [
        {
          "output_type": "execute_result",
          "data": {
            "text/plain": [
              "(23705, 200, 200, 3)"
            ]
          },
          "metadata": {
            "tags": []
          },
          "execution_count": 7
        }
      ]
    },
    {
      "cell_type": "code",
      "metadata": {
        "id": "hNFKw26lIKwO",
        "colab_type": "code",
        "colab": {
          "base_uri": "https://localhost:8080/",
          "height": 34
        },
        "outputId": "203cf2a9-beaf-4e92-cef6-66796177c16e"
      },
      "source": [
        "dataset_array2.resize((23705,200*200*3)) \n",
        "dataset_array2[23704]"
      ],
      "execution_count": 8,
      "outputs": [
        {
          "output_type": "execute_result",
          "data": {
            "text/plain": [
              "array([18., 13., 10., ...,  5.,  6.,  0.], dtype=float32)"
            ]
          },
          "metadata": {
            "tags": []
          },
          "execution_count": 8
        }
      ]
    },
    {
      "cell_type": "code",
      "metadata": {
        "id": "cC230c4oJ31S",
        "colab_type": "code",
        "colab": {
          "base_uri": "https://localhost:8080/",
          "height": 850
        },
        "outputId": "e9c130d3-9727-408b-eab9-91278618a71c"
      },
      "source": [
        "dataset_array2[23704].reshape((200,200,3))"
      ],
      "execution_count": 9,
      "outputs": [
        {
          "output_type": "execute_result",
          "data": {
            "text/plain": [
              "array([[[18., 13., 10.],\n",
              "        [17., 12.,  8.],\n",
              "        [38., 33., 29.],\n",
              "        ...,\n",
              "        [43., 32., 26.],\n",
              "        [48., 38., 29.],\n",
              "        [59., 46., 38.]],\n",
              "\n",
              "       [[18., 13., 10.],\n",
              "        [25., 20., 16.],\n",
              "        [52., 47., 43.],\n",
              "        ...,\n",
              "        [56., 45., 39.],\n",
              "        [56., 46., 37.],\n",
              "        [60., 47., 39.]],\n",
              "\n",
              "       [[21., 13., 10.],\n",
              "        [36., 31., 27.],\n",
              "        [70., 65., 61.],\n",
              "        ...,\n",
              "        [67., 56., 50.],\n",
              "        [62., 51., 45.],\n",
              "        [59., 46., 38.]],\n",
              "\n",
              "       ...,\n",
              "\n",
              "       [[ 1.,  3.,  2.],\n",
              "        [ 0.,  2.,  1.],\n",
              "        [ 0.,  1.,  2.],\n",
              "        ...,\n",
              "        [38., 40., 29.],\n",
              "        [37., 39., 28.],\n",
              "        [37., 38., 30.]],\n",
              "\n",
              "       [[ 0.,  1.,  0.],\n",
              "        [ 0.,  1.,  0.],\n",
              "        [ 0.,  1.,  2.],\n",
              "        ...,\n",
              "        [33., 35., 24.],\n",
              "        [28., 29., 21.],\n",
              "        [23., 24., 16.]],\n",
              "\n",
              "       [[ 2.,  4.,  3.],\n",
              "        [ 4.,  6.,  5.],\n",
              "        [ 6., 10., 11.],\n",
              "        ...,\n",
              "        [22., 23., 15.],\n",
              "        [13., 14.,  6.],\n",
              "        [ 5.,  6.,  0.]]], dtype=float32)"
            ]
          },
          "metadata": {
            "tags": []
          },
          "execution_count": 9
        }
      ]
    },
    {
      "cell_type": "code",
      "metadata": {
        "id": "nas9zYLIKON-",
        "colab_type": "code",
        "colab": {}
      },
      "source": [
        "import tensorflow as tf\n",
        "dataset_array2=dataset_array2/255."
      ],
      "execution_count": 0,
      "outputs": []
    },
    {
      "cell_type": "code",
      "metadata": {
        "id": "idSTJgPcPU-v",
        "colab_type": "code",
        "colab": {
          "base_uri": "https://localhost:8080/",
          "height": 850
        },
        "outputId": "3080a174-3c96-480f-e3af-68df285f0200"
      },
      "source": [
        "dataset_array2[23704].reshape((200,200,3))"
      ],
      "execution_count": 11,
      "outputs": [
        {
          "output_type": "execute_result",
          "data": {
            "text/plain": [
              "array([[[0.07058824, 0.05098039, 0.03921569],\n",
              "        [0.06666667, 0.04705882, 0.03137255],\n",
              "        [0.14901961, 0.12941177, 0.11372549],\n",
              "        ...,\n",
              "        [0.16862746, 0.1254902 , 0.10196079],\n",
              "        [0.1882353 , 0.14901961, 0.11372549],\n",
              "        [0.23137255, 0.18039216, 0.14901961]],\n",
              "\n",
              "       [[0.07058824, 0.05098039, 0.03921569],\n",
              "        [0.09803922, 0.07843138, 0.0627451 ],\n",
              "        [0.20392157, 0.18431373, 0.16862746],\n",
              "        ...,\n",
              "        [0.21960784, 0.1764706 , 0.15294118],\n",
              "        [0.21960784, 0.18039216, 0.14509805],\n",
              "        [0.23529412, 0.18431373, 0.15294118]],\n",
              "\n",
              "       [[0.08235294, 0.05098039, 0.03921569],\n",
              "        [0.14117648, 0.12156863, 0.10588235],\n",
              "        [0.27450982, 0.25490198, 0.23921569],\n",
              "        ...,\n",
              "        [0.2627451 , 0.21960784, 0.19607843],\n",
              "        [0.24313726, 0.2       , 0.1764706 ],\n",
              "        [0.23137255, 0.18039216, 0.14901961]],\n",
              "\n",
              "       ...,\n",
              "\n",
              "       [[0.00392157, 0.01176471, 0.00784314],\n",
              "        [0.        , 0.00784314, 0.00392157],\n",
              "        [0.        , 0.00392157, 0.00784314],\n",
              "        ...,\n",
              "        [0.14901961, 0.15686275, 0.11372549],\n",
              "        [0.14509805, 0.15294118, 0.10980392],\n",
              "        [0.14509805, 0.14901961, 0.11764706]],\n",
              "\n",
              "       [[0.        , 0.00392157, 0.        ],\n",
              "        [0.        , 0.00392157, 0.        ],\n",
              "        [0.        , 0.00392157, 0.00784314],\n",
              "        ...,\n",
              "        [0.12941177, 0.13725491, 0.09411765],\n",
              "        [0.10980392, 0.11372549, 0.08235294],\n",
              "        [0.09019608, 0.09411765, 0.0627451 ]],\n",
              "\n",
              "       [[0.00784314, 0.01568628, 0.01176471],\n",
              "        [0.01568628, 0.02352941, 0.01960784],\n",
              "        [0.02352941, 0.03921569, 0.04313726],\n",
              "        ...,\n",
              "        [0.08627451, 0.09019608, 0.05882353],\n",
              "        [0.05098039, 0.05490196, 0.02352941],\n",
              "        [0.01960784, 0.02352941, 0.        ]]], dtype=float32)"
            ]
          },
          "metadata": {
            "tags": []
          },
          "execution_count": 11
        }
      ]
    },
    {
      "cell_type": "code",
      "metadata": {
        "id": "XYk4ldL9MW2n",
        "colab_type": "code",
        "colab": {
          "base_uri": "https://localhost:8080/",
          "height": 34
        },
        "outputId": "eea12085-de68-4d52-89af-d10eb1c6d095"
      },
      "source": [
        "tensor = tf.constant(dataset_array2, dtype= tf.float32)\n",
        "tensor.shape"
      ],
      "execution_count": 12,
      "outputs": [
        {
          "output_type": "execute_result",
          "data": {
            "text/plain": [
              "TensorShape([23705, 120000])"
            ]
          },
          "metadata": {
            "tags": []
          },
          "execution_count": 12
        }
      ]
    },
    {
      "cell_type": "code",
      "metadata": {
        "id": "xhJvtCv4NxQV",
        "colab_type": "code",
        "colab": {}
      },
      "source": [
        "from numpy import asarray\n",
        "from numpy import savez_compressed\n",
        "savez_compressed('/content/drive/My Drive/Mineria/datos.npz',dataset_array2)"
      ],
      "execution_count": 0,
      "outputs": []
    }
  ]
}